{
 "cells": [
  {
   "cell_type": "markdown",
   "id": "8f8dfdc6",
   "metadata": {},
   "source": [
    "# Ernesto Antonio Reyes Ramírez\n",
    "\n",
    "# Optimización\n",
    "\n",
    "# Tarea 8"
   ]
  },
  {
   "cell_type": "code",
   "execution_count": 86,
   "id": "d4cda09b",
   "metadata": {},
   "outputs": [],
   "source": [
    "#Librerias\n",
    "import numpy as np\n",
    "import math\n",
    "import copy\n",
    "import time"
   ]
  },
  {
   "cell_type": "markdown",
   "id": "a0b85edb",
   "metadata": {},
   "source": [
    "### 1. Método de región de confianza basado en Dogleg"
   ]
  },
  {
   "cell_type": "code",
   "execution_count": 336,
   "id": "0c337fd8",
   "metadata": {},
   "outputs": [],
   "source": [
    "def Dogleg(x, fx, grad_fx, H_fx, Delta):\n",
    "    pB = -np.linalg.solve(H_fx,grad_fx)\n",
    "    if np.linalg.norm(pB) <= Delta:\n",
    "        return pB\n",
    "    \n",
    "    pU = -((grad_fx.T@grad_fx)/(grad_fx.T@H_fx@grad_fx))*grad_fx\n",
    "    \n",
    "    if np.linalg.norm(pU) >= Delta:\n",
    "        return (Delta / np.linalg.norm(grad_fx)) * grad_fx\n",
    "    a = np.dot(pB - pU, pB - pU)\n",
    "    b = 2 * np.dot(pU, pB - pU)\n",
    "    c = np.dot(pU, pU) - Delta ** 2\n",
    "    t = (-b + np.sqrt(b ** 2 - 4 * a * c)) / (2 * a)\n",
    "    return pU + t * (pB - pU)\n",
    "    \n",
    "    \n",
    "    \n",
    "def Trust_region_Dogleg(f,grad_f,H_f,x0,Delta_0,Delta_max,eta,tol,ite):\n",
    "    x = x0\n",
    "    Delta = Delta_0\n",
    "    for i in range(ite):\n",
    "        g = grad_f(x)\n",
    "        B = H_f(x)\n",
    "        eps = 1e-6\n",
    "        B += np.eye(B.shape[0]) * eps\n",
    "        p = Dogleg(x, f(x), g, B, Delta)\n",
    "        rho = (f(x) - f(x + p)) / (-np.dot(g, p) - 0.5 * np.dot(p, np.dot(B, p)))\n",
    "        if rho < eta:\n",
    "            Delta *= 0.25\n",
    "        else:\n",
    "            if rho > 0.75 and np.linalg.norm(p) == Delta:\n",
    "                Delta = min(2 * Delta, Delta_max)\n",
    "            if rho > eta:\n",
    "                x += p\n",
    "        if np.linalg.norm(g) < tol:\n",
    "            break\n",
    "            \n",
    "    return x,i"
   ]
  },
  {
   "cell_type": "markdown",
   "id": "2ad817f7",
   "metadata": {},
   "source": [
    "### 2. Método de región de confianza: Newton-Cauchy alterno"
   ]
  },
  {
   "cell_type": "code",
   "execution_count": 340,
   "id": "4bef984e",
   "metadata": {},
   "outputs": [],
   "source": [
    "def Trust_region_Newton_Cauchy(f,grad_f,H_f,x0,Delta_0,Delta_max,eta,tol,ite):\n",
    "    x = copy.deepcopy(x0)\n",
    "    n = x.shape[0]\n",
    "    Delta = Delta_0\n",
    "    \n",
    "    for i in range(ite):\n",
    "        # Cálculo del paso de Newton\n",
    "        Bk = np.eye(n)\n",
    "        gk = grad_f(x)\n",
    "        Hk = H_f(x)\n",
    "        eps = 1e-6\n",
    "        Hk += np.eye(Hk.shape[0]) * eps\n",
    "        dk = -np.linalg.solve(Hk, gk)\n",
    "        if np.linalg.norm(dk) <= Delta:\n",
    "            pk = dk\n",
    "            rho_k = (f(x) - f(x + pk)) / (-f(x) - gk.T @ pk - 0.5 * pk.T @ Hk @ pk)\n",
    "            if rho_k < 0.25:\n",
    "                Delta = 0.25 * Delta\n",
    "            else:\n",
    "                if rho_k > 0.75 and np.linalg.norm(pk) == Delta:\n",
    "                    Delta = min(2 * Delta, Delta_max)\n",
    "        else:\n",
    "            # Cálculo del paso de Cauchy\n",
    "            pk = -Delta * gk / np.linalg.norm(gk)\n",
    "            rho_k = (f(x) - f(x + pk)) / (-gk.T @ pk - 0.5 * pk.T @ Bk @ pk)\n",
    "            if rho_k < 0.25:\n",
    "                Delta = 0.25 * Delta\n",
    "            else:\n",
    "                if rho_k > 0.75:\n",
    "                    Delta = min(2 * Delta, Delta_max)\n",
    "        # Actualización de x\n",
    "        if rho_k > eta:\n",
    "            x = x + pk\n",
    "            \n",
    "        if np.linalg.norm(gk) < tol:\n",
    "            break\n",
    "    \n",
    "    return x,i"
   ]
  },
  {
   "cell_type": "markdown",
   "id": "a50398f7",
   "metadata": {},
   "source": [
    "### 3. Algoritmo RFTR "
   ]
  },
  {
   "cell_type": "code",
   "execution_count": 326,
   "id": "f3bffc3f",
   "metadata": {},
   "outputs": [],
   "source": [
    "def RFTR(func,grad_func,hess_func, x0, maxiter=100, eta1=0.05, eta2=0.9, gamma1=0.5, gamma2=2.0, eps=1e-6):\n",
    "    x = x0.copy()\n",
    "    n = x.shape[0]\n",
    "    Delta = np.linalg.norm(x) / 10.0\n",
    "    \n",
    "    fval = func(x)\n",
    "    grad = grad_func(x)\n",
    "    Hess = hess_func(x)\n",
    "    I = np.identity(n)\n",
    "    Hk = Hess\n",
    "    Sk = I\n",
    "    \n",
    "    for k in range(maxiter):\n",
    "        # Calculas la region de confianza\n",
    "        pk = -np.linalg.solve(Hk, grad)\n",
    "        norm_pk = np.linalg.norm(pk)\n",
    "        if norm_pk <= Delta:\n",
    "            x_new = x + pk\n",
    "        else:\n",
    "            x_new = x + (Delta / norm_pk) * pk\n",
    "        \n",
    "        fval_new = func(x_new)\n",
    "        rho_k = (fval - fval_new) / (-np.dot(grad, pk) - 0.5 * np.dot(pk, np.dot(Hess, pk)))\n",
    "        \n",
    "        if rho_k < eta1:\n",
    "            Delta *= gamma1\n",
    "        elif rho_k > eta2:\n",
    "            Delta *= gamma2\n",
    "        \n",
    "        if rho_k > eps:\n",
    "            x = x_new\n",
    "            fval = fval_new\n",
    "            grad = grad_func(x)\n",
    "            Hess = hess_func(x)\n",
    "            \n",
    "            # Actualizamos el filtro retrospectivo\n",
    "            s_k = x - Sk.dot(x)\n",
    "            y_k = grad - Sk.dot(grad)\n",
    "            if np.abs(np.dot(s_k, y_k)) > 1e-8:\n",
    "                rho_rf = 1.0 / np.dot(s_k, y_k)\n",
    "                Sk = (I - rho_rf * np.outer(s_k, y_k)).dot(Sk).dot(I - rho_rf * np.outer(y_k, s_k)) + rho_rf * np.outer(s_k, s_k)\n",
    "            else:\n",
    "                Sk = Sk\n",
    "            \n",
    "        if np.linalg.norm(grad) < eps:\n",
    "            break\n",
    "        \n",
    "    return x, k"
   ]
  },
  {
   "cell_type": "markdown",
   "id": "ebe2f555",
   "metadata": {},
   "source": [
    "### 4. Método de Newton modificado"
   ]
  },
  {
   "cell_type": "code",
   "execution_count": 103,
   "id": "d91651f8",
   "metadata": {},
   "outputs": [],
   "source": [
    "def newton_method(f,grad_f,H_f,x0,ite=1000, tol=1e-5):\n",
    "    x = copy.deepcopy(x0)\n",
    "    for i in range(ite):\n",
    "        g = grad_f(x)\n",
    "        H = H_f(x)\n",
    "        # regularización para mejorar la estabilidad si es necesario\n",
    "        eps = 1e-6\n",
    "        H += np.eye(H.shape[0]) * eps\n",
    "        # actualizar los pesos y sesgo usando el método de Newton modificado\n",
    "        d = np.linalg.solve(H, -g)\n",
    "        x += d\n",
    "        \n",
    "        #Calculamos el valor de la función en el punto en el que vamos\n",
    "        norm = np.linalg.norm(grad_f(x))\n",
    "        #print(\"Epoch %d - f(x) = %.4f - ||grad_f|| = %.4f\" % (i, f(x),norm))\n",
    "        \n",
    "        # verificar si se ha alcanzado la tolerancia\n",
    "        if  norm < tol:\n",
    "            break\n",
    "        \n",
    "    return x,i"
   ]
  },
  {
   "cell_type": "markdown",
   "id": "9dbc535b",
   "metadata": {},
   "source": [
    "# Funciones"
   ]
  },
  {
   "cell_type": "code",
   "execution_count": 3,
   "id": "a1dbb868",
   "metadata": {},
   "outputs": [],
   "source": [
    "#Función Rosembrock \n",
    "\n",
    "def f_Rosenbrock(x):\n",
    "    n = len(x)\n",
    "    sum = 0\n",
    "    for i in range(n-1):\n",
    "        sum += 100*(x[i+1] - x[i]**2)**2 + (1 - x[i])**2\n",
    "    return sum\n",
    "\n",
    "\n",
    "def grad_rosenbrock(x):\n",
    "    n = len(x)\n",
    "    grad_f = np.zeros(n)\n",
    "    grad_f[0] = 400*(x[0]**3) - 400*x[0]*x[1]+2*x[0]-2\n",
    "    grad_f[n-1] = 200*x[n-1]-200*(x[n-2]**2) \n",
    "    \n",
    "    for i in range(1,n-1):\n",
    "        grad_f[i] = 400*(x[i]**3) + 202*x[i] - 400*x[i]*x[i+1]-200*(x[i-1]**2) - 2\n",
    "    \n",
    "    return grad_f\n",
    "\n",
    "def H_rosenbrock(x):\n",
    "    n = len(x)\n",
    "    h_f = np.zeros((n,n))\n",
    "    h_f[0,0] = 1200*(x[0]**2) - 400*x[1]+2\n",
    "    h_f[0,1] = -400*x[0]\n",
    "    h_f[n-1,n-2] = -400*x[n-2]\n",
    "    h_f[n-1,n-1] = 200\n",
    "    \n",
    "    for i in range(1,n):\n",
    "        h_f[i,i-1] = -400*x[i-1] \n",
    "    \n",
    "    for i in range(1,n-1):\n",
    "        h_f[i,i] = 1200*(x[i]**2) + 202 - 400*x[i+1]\n",
    "        \n",
    "    for i in range(0,n-1):\n",
    "        h_f[i,i+1] = -400*x[i] \n",
    "        \n",
    "    return h_f"
   ]
  },
  {
   "cell_type": "code",
   "execution_count": 130,
   "id": "ea23740b",
   "metadata": {},
   "outputs": [],
   "source": [
    "#Función Wood\n",
    "\n",
    "def f_wood(x):\n",
    "    evaluation = 100*(x[0]**2 - x[1])**2 + (x[0] - 1)**2 + (x[2] - 1)**2 + 90*(x[2]**2 - x[3])**2 + 10.1*((x[1] - 1)**2 + (x[3] - 1)**2) + 19.8*(x[1] - 1)*(x[3] - 1) \n",
    "    return evaluation \n",
    "\n",
    "\n",
    "def grad_wood(x):\n",
    "    Df = np.zeros(4)\n",
    "    Df[0] = 400*x[0]**3 - 400*x[0]*x[1] + 2*(x[0]-1)\n",
    "    Df[1] = 200*(x[1] - x[0]**2) + 20.2*(x[1] - 1) + 19.8*(x[3] - 1)\n",
    "    Df[2] = 360*x[2]**2-360*x[2]*x[3]+2*x[2]-2\n",
    "    Df[3] =  -180*(x[2]**2-x[3]) + 20.2*(x[3] - 1) + 19.8*(x[1] - 1)\n",
    "    \n",
    "    return Df\n",
    "\n",
    "def H_wood(x):\n",
    "    H_w = np.zeros((4,4))\n",
    "    H_w[0,0] = 1200*x[0]**2 -400*x[1] + 2\n",
    "    H_w[0,1] = -400*x[0]\n",
    "    H_w[0,2] = 0\n",
    "    H_w[0,3] = 0\n",
    "    H_w[1,0] = -400*x[0]\n",
    "    H_w[1,1] = 220.2\n",
    "    H_w[1,2] = 0\n",
    "    H_w[1,3] = 19.8\n",
    "    H_w[2,0] = 0\n",
    "    H_w[2,1] = 0\n",
    "    H_w[2,2] = 720*x[2] - 360*x[3] + 2\n",
    "    H_w[2,3] = -360*x[2]\n",
    "    H_w[3,0] = 0 \n",
    "    H_w[3,1] = 19.8\n",
    "    H_w[3,2] = -360*x[2] \n",
    "    H_w[3,3] = 202.2\n",
    "    \n",
    "    return H_w"
   ]
  },
  {
   "cell_type": "code",
   "execution_count": 156,
   "id": "0db1353b",
   "metadata": {},
   "outputs": [],
   "source": [
    "#Función de branin\n",
    "\n",
    "b = 5.1/(4*math.pi*math.pi)\n",
    "c = 5/math.pi\n",
    "r = 6\n",
    "s = 10\n",
    "t = 1/(8*math.pi)\n",
    "\n",
    "def f_branin(x):\n",
    "    evaluation = (x[1]-b*x[0]**2 + c*x[0] - r)**2 + s*(1-t)*math.cos(x[0]) + s\n",
    "    return evaluation\n",
    "\n",
    "def grad_branin(x):\n",
    "    g = np.zeros(len(x))\n",
    "    g[0] = 2*(x[1] - b*x[0]**2 + c*x[0] - r)*(-2*b*x[0] + c) - s*(1-t)*math.sin(x[0])\n",
    "    g[1] = 2*(x[1] - b*x[0]**2 + c*x[0] - r)\n",
    "    return g\n",
    "\n",
    "def H_branin(x):\n",
    "    H = np.zeros((2,2))\n",
    "    H[0,0] = 2*(-2*b*x[0] + c)*(-2*b*x[0] + c) + 2*(x[1] - b*x[0]**2 + c*x[0] - r)*(-2*b) - s*(1-t)*math.cos(x[0])\n",
    "    H[1,1] = 2\n",
    "    H[0,1] = H[1,0] = -4*b*x[0] + 2*c\n",
    "    \n",
    "    return H"
   ]
  },
  {
   "cell_type": "markdown",
   "id": "3bfab877",
   "metadata": {},
   "source": [
    "# Experimentos"
   ]
  },
  {
   "cell_type": "code",
   "execution_count": 339,
   "id": "6d973053",
   "metadata": {},
   "outputs": [
    {
     "name": "stdout",
     "output_type": "stream",
     "text": [
      "Tiempo promedio:  2.466636864344279\n",
      "Iteraciones promedio:  4726.3\n"
     ]
    }
   ],
   "source": [
    "# Método de Dogleg, Función Rosenbrock\n",
    "n = 100\n",
    "m = 30\n",
    "tim = 0\n",
    "it = 0\n",
    "\n",
    "for i in range(m):\n",
    "    x0 = np.random.uniform(-2,2,n) + 1\n",
    "    inicio = time.time()\n",
    "    xmin,k = Trust_region_Dogleg(f_Rosenbrock,grad_rosenbrock,H_rosenbrock,x0,1,10,0.25,1e-8,5000)\n",
    "    fin = time.time()\n",
    "    tim = tim + (fin-inicio)\n",
    "    it = it + k\n",
    "\n",
    "tim = tim/m\n",
    "it = it/m\n",
    "print(\"Tiempo promedio: \", tim)\n",
    "print(\"Iteraciones promedio: \", it)"
   ]
  },
  {
   "cell_type": "code",
   "execution_count": 338,
   "id": "a07de176",
   "metadata": {},
   "outputs": [
    {
     "name": "stdout",
     "output_type": "stream",
     "text": [
      "Tiempo promedio:  0.00372008482615153\n",
      "Iteraciones promedio:  86.73333333333333\n"
     ]
    }
   ],
   "source": [
    "# Método de Dogleg, Función wood\n",
    "n = 4\n",
    "m = 30\n",
    "tim = 0\n",
    "it = 0\n",
    "\n",
    "for i in range(m):\n",
    "    x0 = np.random.uniform(-2,2,n) + 1\n",
    "    inicio = time.time()\n",
    "    xmin,k = Trust_region_Dogleg(f_wood,grad_wood,H_wood,x0,1,10,0.25,1e-8,100)\n",
    "    fin = time.time()\n",
    "    tim = tim + (fin-inicio)\n",
    "    it = it + k\n",
    "\n",
    "tim = tim/m\n",
    "it = it/m\n",
    "print(\"Tiempo promedio: \", tim)\n",
    "print(\"Iteraciones promedio: \", it)"
   ]
  },
  {
   "cell_type": "code",
   "execution_count": 337,
   "id": "f3e4444e",
   "metadata": {},
   "outputs": [
    {
     "name": "stdout",
     "output_type": "stream",
     "text": [
      "Tiempo promedio:  0.0014481147130330403\n",
      "Iteraciones promedio:  34.53333333333333\n"
     ]
    }
   ],
   "source": [
    "# Método de Dogleg , Función branin\n",
    "n = 2\n",
    "m = 30\n",
    "tim = 0\n",
    "it = 0\n",
    "x = np.array([math.pi,2.275])\n",
    "\n",
    "for i in range(m):\n",
    "    x0 = np.random.uniform(-2,2,n) + x\n",
    "    inicio = time.time()\n",
    "    xmin,k = Trust_region_Dogleg(f_branin,grad_branin,H_branin,x0,1,10,0.25,1e-8,100)\n",
    "    fin = time.time()\n",
    "    tim = tim + (fin-inicio)\n",
    "    it = it + k\n",
    "\n",
    "tim = tim/m\n",
    "it = it/m\n",
    "print(\"Tiempo promedio: \", tim)\n",
    "print(\"Iteraciones promedio: \", it)"
   ]
  },
  {
   "cell_type": "code",
   "execution_count": 345,
   "id": "2479814d",
   "metadata": {},
   "outputs": [
    {
     "name": "stdout",
     "output_type": "stream",
     "text": [
      "Tiempo promedio:  0.45724849700927733\n",
      "Iteraciones promedio:  999.0\n"
     ]
    }
   ],
   "source": [
    "# Método de Newton-Cauchy alterno , Función Rosenbrock\n",
    "n = 100\n",
    "m = 30\n",
    "tim = 0\n",
    "it = 0\n",
    "\n",
    "for i in range(m):\n",
    "    x0 = np.random.uniform(-2,2,n) + 1\n",
    "    inicio = time.time()\n",
    "    xmin,k = Trust_region_Newton_Cauchy(f_Rosenbrock,grad_rosenbrock,H_rosenbrock,x0,1,10,0.25,1e-5,1000)\n",
    "    fin = time.time()\n",
    "    tim = tim + (fin-inicio)\n",
    "    it = it + k\n",
    "\n",
    "tim = tim/m\n",
    "it = it/m\n",
    "print(\"Tiempo promedio: \", tim)\n",
    "print(\"Iteraciones promedio: \", it)"
   ]
  },
  {
   "cell_type": "code",
   "execution_count": 344,
   "id": "54c178a8",
   "metadata": {},
   "outputs": [
    {
     "name": "stdout",
     "output_type": "stream",
     "text": [
      "Tiempo promedio:  0.024936358133951824\n",
      "Iteraciones promedio:  499.0\n"
     ]
    }
   ],
   "source": [
    "# Método de Newton-Cauchy alterno , Función wood\n",
    "n = 4\n",
    "m = 30\n",
    "tim = 0\n",
    "it = 0\n",
    "\n",
    "for i in range(m):\n",
    "    x0 = np.random.uniform(-2,2,n) + 1\n",
    "    inicio = time.time()\n",
    "    xmin,k = Trust_region_Newton_Cauchy(f_wood,grad_wood,H_wood,x0,1,10,0.25,1e-6,500)\n",
    "    fin = time.time()\n",
    "    tim = tim + (fin-inicio)\n",
    "    it = it + k\n",
    "\n",
    "tim = tim/m\n",
    "it = it/m\n",
    "print(\"Tiempo promedio: \", tim)\n",
    "print(\"Iteraciones promedio: \", it)"
   ]
  },
  {
   "cell_type": "code",
   "execution_count": 341,
   "id": "cf17b9a3",
   "metadata": {},
   "outputs": [
    {
     "name": "stdout",
     "output_type": "stream",
     "text": [
      "Tiempo promedio:  0.0037698745727539062\n",
      "Iteraciones promedio:  66.16666666666667\n"
     ]
    }
   ],
   "source": [
    "# Método de Newton-Cauchy alterno , Función branin\n",
    "n = 2\n",
    "m = 30\n",
    "tim = 0\n",
    "it = 0\n",
    "x = np.array([math.pi,2.275])\n",
    "\n",
    "for i in range(m):\n",
    "    x0 = np.random.uniform(-2,2,n) + x\n",
    "    inicio = time.time()\n",
    "    xmin,k = Trust_region_Newton_Cauchy(f_branin,grad_branin,H_branin,x0,1,10,0.25,1e-6,100)\n",
    "    fin = time.time()\n",
    "    tim = tim + (fin-inicio)\n",
    "    it = it + k\n",
    "\n",
    "tim = tim/m\n",
    "it = it/m\n",
    "print(\"Tiempo promedio: \", tim)\n",
    "print(\"Iteraciones promedio: \", it)"
   ]
  },
  {
   "cell_type": "code",
   "execution_count": 179,
   "id": "d68479f8",
   "metadata": {},
   "outputs": [
    {
     "name": "stdout",
     "output_type": "stream",
     "text": [
      "Tiempo promedio:  0.2851104736328125\n",
      "Iteraciones promedio:  748.3\n"
     ]
    }
   ],
   "source": [
    "# Método de Newton-modificado, Función Rosenbrock\n",
    "n = 100\n",
    "m = 30\n",
    "tim = 0\n",
    "it = 0\n",
    "\n",
    "for i in range(m):\n",
    "    x0 = np.random.uniform(-2,2,n) + 1\n",
    "    inicio = time.time()\n",
    "    xmin,k = newton_method(f_Rosenbrock,grad_rosenbrock,H_rosenbrock,x0,1000,1e-8)\n",
    "    fin = time.time()\n",
    "    tim = tim + (fin-inicio)\n",
    "    it = it + k\n",
    "\n",
    "tim = tim/m\n",
    "it = it/m\n",
    "print(\"Tiempo promedio: \", tim)\n",
    "print(\"Iteraciones promedio: \", it)"
   ]
  },
  {
   "cell_type": "code",
   "execution_count": 180,
   "id": "2a1d850e",
   "metadata": {},
   "outputs": [
    {
     "name": "stdout",
     "output_type": "stream",
     "text": [
      "Tiempo promedio:  0.00041207472483317055\n",
      "Iteraciones promedio:  9.5\n"
     ]
    }
   ],
   "source": [
    "# Método de Newton-modificado, Función wood\n",
    "n = 4\n",
    "m = 30\n",
    "tim = 0\n",
    "it = 0\n",
    "\n",
    "for i in range(m):\n",
    "    x0 = np.random.uniform(-2,2,n) + 1\n",
    "    inicio = time.time()\n",
    "    xmin,k = newton_method(f_wood,grad_wood,H_wood,x0,100,1e-8)\n",
    "    fin = time.time()\n",
    "    tim = tim + (fin-inicio)\n",
    "    it = it + k\n",
    "\n",
    "tim = tim/m\n",
    "it = it/m\n",
    "print(\"Tiempo promedio: \", tim)\n",
    "print(\"Iteraciones promedio: \", it)"
   ]
  },
  {
   "cell_type": "code",
   "execution_count": 181,
   "id": "edf2105f",
   "metadata": {},
   "outputs": [
    {
     "name": "stdout",
     "output_type": "stream",
     "text": [
      "Tiempo promedio:  0.0003091573715209961\n",
      "Iteraciones promedio:  6.666666666666667\n"
     ]
    }
   ],
   "source": [
    "# Método de Newton-modificado, Función branin\n",
    "n = 2\n",
    "m = 30\n",
    "tim = 0\n",
    "it = 0\n",
    "x = np.array([math.pi,2.275])\n",
    "\n",
    "for i in range(m):\n",
    "    x0 = np.random.uniform(-2,2,n) + x\n",
    "    inicio = time.time()\n",
    "    xmin,k = newton_method(f_branin,grad_branin,H_branin,x0,100,1e-8)\n",
    "    fin = time.time()\n",
    "    tim = tim + (fin-inicio)\n",
    "    it = it + k\n",
    "\n",
    "tim = tim/m\n",
    "it = it/m\n",
    "print(\"Tiempo promedio: \", tim)\n",
    "print(\"Iteraciones promedio: \", it)"
   ]
  },
  {
   "cell_type": "code",
   "execution_count": 328,
   "id": "d7485ead",
   "metadata": {},
   "outputs": [
    {
     "name": "stdout",
     "output_type": "stream",
     "text": [
      "Tiempo promedio:  0.15028143723805745\n",
      "Iteraciones promedio:  999.0\n"
     ]
    }
   ],
   "source": [
    "# Método RFTR, Función Rosenbrock\n",
    "n = 100\n",
    "m = 30\n",
    "tim = 0\n",
    "it = 0\n",
    "\n",
    "for i in range(m):\n",
    "    x0 = np.random.uniform(-2,2,n) + 1\n",
    "    inicio = time.time()\n",
    "    xmin,k = RFTR(f_Rosenbrock,grad_rosenbrock,H_rosenbrock, x0, maxiter=1000, eta1=0.05, eta2=0.9, gamma1=0.5, gamma2=2.0, eps=1e-5)\n",
    "    fin = time.time()\n",
    "    tim = tim + (fin-inicio)\n",
    "    it = it + k\n",
    "\n",
    "tim = tim/m\n",
    "it = it/m\n",
    "print(\"Tiempo promedio: \", tim)\n",
    "print(\"Iteraciones promedio: \", it)"
   ]
  },
  {
   "cell_type": "code",
   "execution_count": 332,
   "id": "35061b30",
   "metadata": {},
   "outputs": [
    {
     "name": "stdout",
     "output_type": "stream",
     "text": [
      "Tiempo promedio:  0.020135887463887534\n",
      "Iteraciones promedio:  882.1333333333333\n"
     ]
    }
   ],
   "source": [
    "# Método RFTR, Función wood\n",
    "n = 4\n",
    "m = 30\n",
    "tim = 0\n",
    "it = 0\n",
    "\n",
    "for i in range(m):\n",
    "    x0 = np.random.uniform(-2,2,n) + 1\n",
    "    inicio = time.time()\n",
    "    xmin,k =  RFTR(f_wood,grad_wood,H_wood, x0, maxiter=1000, eta1=0.05, eta2=0.9, gamma1=0.5, gamma2=2.0, eps=1e-5)\n",
    "    fin = time.time()\n",
    "    tim = tim + (fin-inicio)\n",
    "    it = it + k\n",
    "\n",
    "tim = tim/m\n",
    "it = it/m\n",
    "print(\"Tiempo promedio: \", tim)\n",
    "print(\"Iteraciones promedio: \", it)"
   ]
  },
  {
   "cell_type": "code",
   "execution_count": 334,
   "id": "399f3607",
   "metadata": {},
   "outputs": [
    {
     "name": "stdout",
     "output_type": "stream",
     "text": [
      "Tiempo promedio:  0.0010746558507283529\n",
      "Iteraciones promedio:  40.4\n"
     ]
    }
   ],
   "source": [
    "# Método RFTR, Función branin\n",
    "n = 2\n",
    "m = 30\n",
    "tim = 0\n",
    "it = 0\n",
    "x = np.array([math.pi,2.275])\n",
    "\n",
    "for i in range(m):\n",
    "    x0 = np.random.uniform(-2,2,n) + x\n",
    "    inicio = time.time()\n",
    "    xmin,k = RFTR(f_branin,grad_branin,H_branin, x0, maxiter=100, eta1=0.05, eta2=0.9, gamma1=0.5, gamma2=2.0, eps=1e-7)\n",
    "    fin = time.time()\n",
    "    tim = tim + (fin-inicio)\n",
    "    it = it + k\n",
    "\n",
    "tim = tim/m\n",
    "it = it/m\n",
    "print(\"Tiempo promedio: \", tim)\n",
    "print(\"Iteraciones promedio: \", it)"
   ]
  }
 ],
 "metadata": {
  "kernelspec": {
   "display_name": "Python 3 (ipykernel)",
   "language": "python",
   "name": "python3"
  },
  "language_info": {
   "codemirror_mode": {
    "name": "ipython",
    "version": 3
   },
   "file_extension": ".py",
   "mimetype": "text/x-python",
   "name": "python",
   "nbconvert_exporter": "python",
   "pygments_lexer": "ipython3",
   "version": "3.10.9"
  }
 },
 "nbformat": 4,
 "nbformat_minor": 5
}
