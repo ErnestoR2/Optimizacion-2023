{
 "cells": [
  {
   "cell_type": "markdown",
   "id": "1c0aa552",
   "metadata": {},
   "source": [
    "# Ernesto Antonio Reyes Ramírez\n",
    "\n",
    "# Optimización\n",
    "\n",
    "# Tarea 4 "
   ]
  },
  {
   "cell_type": "code",
   "execution_count": 246,
   "id": "0d397d04",
   "metadata": {},
   "outputs": [],
   "source": [
    "import numpy as np\n",
    "from numpy import linalg as LA\n",
    "from sympy.solvers import solve"
   ]
  },
  {
   "cell_type": "markdown",
   "id": "25568d19",
   "metadata": {},
   "source": [
    "El algoritmo de descenso máximo con tamaño de paso fijo"
   ]
  },
  {
   "cell_type": "code",
   "execution_count": 342,
   "id": "ba10305a",
   "metadata": {},
   "outputs": [],
   "source": [
    "alpha = 1e-3\n",
    "\n",
    "def SDA(x_0,alpha,f,grad_f,ite):\n",
    "    k = 0\n",
    "    x = x_0\n",
    "    g = grad_f(x)\n",
    "    \n",
    "    while LA.norm(g) != 0 and k < ite:\n",
    "        x = x - alpha*g\n",
    "        g = grad_f(x)\n",
    "        k = k+1\n",
    "        \n",
    "    return x"
   ]
  },
  {
   "cell_type": "markdown",
   "id": "65530693",
   "metadata": {},
   "source": [
    "Algoritmo de Newton"
   ]
  },
  {
   "cell_type": "code",
   "execution_count": 302,
   "id": "4cb565d6",
   "metadata": {},
   "outputs": [],
   "source": [
    "def Newton_alg(x_0,alpha,f,grad_f,hess_f,ite):\n",
    "    k = 0\n",
    "    x = x_0\n",
    "    g = grad_f(x)\n",
    "    H = hess_f(x)\n",
    "    w = -g\n",
    "    \n",
    "    d = np.linalg.solve(H,w)\n",
    "    \n",
    "    while LA.norm(g) != 0 and k < ite:\n",
    "        x = x + d\n",
    "        g = grad_f(x)\n",
    "        H = hess_f(x)\n",
    "        w = -g\n",
    "    \n",
    "        d = np.linalg.solve(H,w)\n",
    "        k = k+1\n",
    "        \n",
    "    return x"
   ]
  },
  {
   "cell_type": "markdown",
   "id": "1f135731",
   "metadata": {},
   "source": [
    "# Función de Rosembrock"
   ]
  },
  {
   "cell_type": "code",
   "execution_count": 249,
   "id": "afc8220d",
   "metadata": {},
   "outputs": [],
   "source": [
    "#Función Rosembrock \n",
    "\n",
    "def f_Ros(x):\n",
    "    evaluation = sum([100*(x[i+1]-x[i])**2 + (1-x[i])**2 for i in range(0,n-1)])\n",
    "    return evaluation\n",
    "\n",
    "def Df_Ros(x):\n",
    "    grad_f = np.zeros(n)\n",
    "    grad_f[0] = 400*(x[0]**3) - 400*x[0]*x[1]+2*x[0]-2\n",
    "    grad_f[n-1] = 200*x[n-1]-200*(x[n-2]**2) \n",
    "    \n",
    "    for i in range(1,n-1):\n",
    "        grad_f[i] = 400*(x[i]**3) + 202*x[i] - 400*x[i]*x[i+1]-200*(x[i-1]**2) - 2\n",
    "    \n",
    "    return grad_f\n",
    "\n",
    "def H_Ros(x):\n",
    "    h_f = np.zeros((n,n))\n",
    "    h_f[0,0] = 1200*(x[0]**2) - 400*x[1]+2\n",
    "    h_f[0,1] = -400*x[0]\n",
    "    h_f[n-1,n-2] = -400*x[n-2]\n",
    "    h_f[n-1,n-1] = 200\n",
    "    \n",
    "    for i in range(1,n):\n",
    "        h_f[i,i-1] = -400*x[i-1] \n",
    "    \n",
    "    for i in range(1,n-1):\n",
    "        h_f[i,i] = 1200*(x[i]**2) + 202 - 400*x[i+1]\n",
    "        \n",
    "    for i in range(0,n-1):\n",
    "        h_f[i,i+1] = -400*x[i] \n",
    "        \n",
    "    return h_f"
   ]
  },
  {
   "cell_type": "code",
   "execution_count": 250,
   "id": "7a59bb52",
   "metadata": {},
   "outputs": [],
   "source": [
    "#Primero definimos los puntos iniciales para los algoritmos \n",
    "n = 2\n",
    "x_0 = np.ones(n)\n",
    "\n",
    "x_0[0] = -1.2\n",
    "x_0[n-2] = -1.2\n",
    "\n",
    "x = np.ones(n)\n",
    "\n",
    "#Creamos un punto inicial aleatorio \n",
    "x_r = np.random.rand(n)"
   ]
  },
  {
   "cell_type": "code",
   "execution_count": 251,
   "id": "1341ed1a",
   "metadata": {},
   "outputs": [],
   "source": [
    "m = 100\n",
    "x_1 = np.ones(m)\n",
    "\n",
    "x_1[0] = -1.2\n",
    "x_1[n-2] = -1.2\n",
    "\n",
    "x1 = np.ones(m)\n",
    "\n",
    "#Creamos un punto inicial aleatorio \n",
    "x_r1 = np.random.rand(m)"
   ]
  },
  {
   "cell_type": "markdown",
   "id": "d56ddf3c",
   "metadata": {},
   "source": [
    "Algoritmo de descenso máximo"
   ]
  },
  {
   "cell_type": "markdown",
   "id": "101e2c89",
   "metadata": {},
   "source": [
    "Muestra de $n=2$"
   ]
  },
  {
   "cell_type": "code",
   "execution_count": 257,
   "id": "17c43304",
   "metadata": {},
   "outputs": [],
   "source": [
    "n = 2"
   ]
  },
  {
   "cell_type": "code",
   "execution_count": 258,
   "id": "05599904",
   "metadata": {},
   "outputs": [],
   "source": [
    "x_sol1 = SDA(x_0,alpha,f_Ros,Df_Ros,100000)"
   ]
  },
  {
   "cell_type": "code",
   "execution_count": 259,
   "id": "897d7be0",
   "metadata": {},
   "outputs": [
    {
     "data": {
      "text/plain": [
       "1.888712244835108e-13"
      ]
     },
     "execution_count": 259,
     "metadata": {},
     "output_type": "execute_result"
    }
   ],
   "source": [
    "#Calculamos la norma entre nuestro valor aproximado y el real\n",
    "LA.norm(x-x_sol1)"
   ]
  },
  {
   "cell_type": "code",
   "execution_count": 260,
   "id": "2e9fdcaf",
   "metadata": {},
   "outputs": [],
   "source": [
    "x_sol2 = SDA(x_r,alpha,f_Ros,Df_Ros,100000)"
   ]
  },
  {
   "cell_type": "code",
   "execution_count": 261,
   "id": "6c82c50c",
   "metadata": {},
   "outputs": [
    {
     "data": {
      "text/plain": [
       "1.888712244835108e-13"
      ]
     },
     "execution_count": 261,
     "metadata": {},
     "output_type": "execute_result"
    }
   ],
   "source": [
    "#Calculamos la norma entre nuestro valor aproximado y el real\n",
    "LA.norm(x-x_sol2)"
   ]
  },
  {
   "cell_type": "markdown",
   "id": "76396b28",
   "metadata": {},
   "source": [
    "Prueba con $n=100$"
   ]
  },
  {
   "cell_type": "code",
   "execution_count": 262,
   "id": "2ab109d5",
   "metadata": {},
   "outputs": [],
   "source": [
    "n = 100"
   ]
  },
  {
   "cell_type": "code",
   "execution_count": 263,
   "id": "6d94a1e5",
   "metadata": {},
   "outputs": [],
   "source": [
    "x_sol1 = SDA(x_1,alpha,f_Ros,Df_Ros,100000)"
   ]
  },
  {
   "cell_type": "code",
   "execution_count": 264,
   "id": "dfc2e39e",
   "metadata": {},
   "outputs": [
    {
     "data": {
      "text/plain": [
       "1.9932898447149383"
      ]
     },
     "execution_count": 264,
     "metadata": {},
     "output_type": "execute_result"
    }
   ],
   "source": [
    "#Calculamos la norma entre nuestro valor aproximado y el real\n",
    "LA.norm(x1-x_sol1)"
   ]
  },
  {
   "cell_type": "code",
   "execution_count": 265,
   "id": "135fd313",
   "metadata": {},
   "outputs": [],
   "source": [
    "x_sol2 = SDA(x_r1,alpha,f_Ros,Df_Ros,100000)"
   ]
  },
  {
   "cell_type": "code",
   "execution_count": 266,
   "id": "74aa95d0",
   "metadata": {},
   "outputs": [
    {
     "data": {
      "text/plain": [
       "1.704494643820944e-13"
      ]
     },
     "execution_count": 266,
     "metadata": {},
     "output_type": "execute_result"
    }
   ],
   "source": [
    "#Calculamos la norma entre nuestro valor aproximado y el real\n",
    "LA.norm(x1-x_sol2)"
   ]
  },
  {
   "cell_type": "markdown",
   "id": "18825bd9",
   "metadata": {},
   "source": [
    "Algoritmo de Newton "
   ]
  },
  {
   "cell_type": "markdown",
   "id": "7516557b",
   "metadata": {},
   "source": [
    "Muestra con $n=2$"
   ]
  },
  {
   "cell_type": "code",
   "execution_count": 267,
   "id": "cf4a135c",
   "metadata": {},
   "outputs": [],
   "source": [
    "n = 2"
   ]
  },
  {
   "cell_type": "code",
   "execution_count": 268,
   "id": "7624a475",
   "metadata": {},
   "outputs": [],
   "source": [
    "x_sol1 =  Newton_alg(x_0,alpha,f_Ros,Df_Ros,H_Ros,10000)"
   ]
  },
  {
   "cell_type": "code",
   "execution_count": 269,
   "id": "bd3bd80e",
   "metadata": {},
   "outputs": [
    {
     "data": {
      "text/plain": [
       "0.0"
      ]
     },
     "execution_count": 269,
     "metadata": {},
     "output_type": "execute_result"
    }
   ],
   "source": [
    "#Calculamos la norma entre nuestro valor aproximado y el real\n",
    "LA.norm(x-x_sol1)"
   ]
  },
  {
   "cell_type": "code",
   "execution_count": 270,
   "id": "f6ac024a",
   "metadata": {},
   "outputs": [],
   "source": [
    "x_sol2 = Newton_alg(x_0,alpha,f_Ros,Df_Ros,H_Ros,10000)"
   ]
  },
  {
   "cell_type": "code",
   "execution_count": 271,
   "id": "4cb1bc26",
   "metadata": {},
   "outputs": [
    {
     "data": {
      "text/plain": [
       "0.0"
      ]
     },
     "execution_count": 271,
     "metadata": {},
     "output_type": "execute_result"
    }
   ],
   "source": [
    "#Calculamos la norma entre nuestro valor aproximado y el real\n",
    "LA.norm(x-x_sol2)"
   ]
  },
  {
   "cell_type": "markdown",
   "id": "e6f01702",
   "metadata": {},
   "source": [
    "Muestra con $n=100$"
   ]
  },
  {
   "cell_type": "code",
   "execution_count": 272,
   "id": "bfbe37cd",
   "metadata": {},
   "outputs": [],
   "source": [
    "n = 100"
   ]
  },
  {
   "cell_type": "code",
   "execution_count": 273,
   "id": "8a335c24",
   "metadata": {},
   "outputs": [],
   "source": [
    "x_sol1 =  Newton_alg(x_1,alpha,f_Ros,Df_Ros,H_Ros,10000)"
   ]
  },
  {
   "cell_type": "code",
   "execution_count": 274,
   "id": "566f873f",
   "metadata": {},
   "outputs": [
    {
     "data": {
      "text/plain": [
       "1.993289844714938"
      ]
     },
     "execution_count": 274,
     "metadata": {},
     "output_type": "execute_result"
    }
   ],
   "source": [
    "#Calculamos la norma entre nuestro valor aproximado y el real\n",
    "LA.norm(x1-x_sol1)"
   ]
  },
  {
   "cell_type": "code",
   "execution_count": 275,
   "id": "58701151",
   "metadata": {},
   "outputs": [],
   "source": [
    "x_sol2 = Newton_alg(x_r1,alpha,f_Ros,Df_Ros,H_Ros,10000)"
   ]
  },
  {
   "cell_type": "code",
   "execution_count": 276,
   "id": "78fe1458",
   "metadata": {},
   "outputs": [
    {
     "data": {
      "text/plain": [
       "3.237856530384626e-14"
      ]
     },
     "execution_count": 276,
     "metadata": {},
     "output_type": "execute_result"
    }
   ],
   "source": [
    "#Calculamos la norma entre nuestro valor aproximado y el real\n",
    "LA.norm(x1-x_sol2)"
   ]
  },
  {
   "cell_type": "markdown",
   "id": "23699869",
   "metadata": {},
   "source": [
    "# Función Wood"
   ]
  },
  {
   "cell_type": "code",
   "execution_count": 340,
   "id": "5ec74d2d",
   "metadata": {},
   "outputs": [],
   "source": [
    "#Función Wood\n",
    "\n",
    "def f_wood(x):\n",
    "    return 100*(x[0]**2 - x[1])**2 + (x[0] - 1)**2 + (x[2] - 1)**2 + 90*(x[2]**2 - x[3])**2 + 10.1*[(x[1] - 1)**2 + (x[3] - 1)**2] + 19.8*(x[1] - 1)*(x[3] - 1)\n",
    "\n",
    "\n",
    "def Df_wood(x):\n",
    "    Df = np.zeros(4)\n",
    "    Df[0] =  -400*x[0]*(x[1] - x[0]**2) - 2*(1 - x[0])\n",
    "    Df[1] = 200*(x[1] - x[0]**2) + 2.02*(x[1] - 1) + 19.8*(x[3] - 1)\n",
    "    Df[2] = -360*x[2]*(x[3] - x[2]**2) - 2*(1 - x[2])\n",
    "    Df[3] =  180*(x[3] - x[2]**2) + 2.02*(x[3] - 1) + 19.8*(x[1] - 1)\n",
    "    \n",
    "    return Df\n",
    "\n",
    "def H_wood(x):\n",
    "    H_w = np.zeros((4,4))\n",
    "    \n",
    "    H_w[0,0] = 1200*x[0]**2-400*x[1]+2\n",
    "    H_w[0,1] = -400*x[0]\n",
    "    H_w[1,0] = -400*x[0]\n",
    "    H_w[1,1] = 220.2\n",
    "    H_w[1,3] = 19.8\n",
    "    H_w[3,1] = 19.8\n",
    "    H_w[2,2] = 2+1080*x[2]**2-360*x[3]\n",
    "    H_w[3,2] = -360*x[2]\n",
    "    H_w[2,3] = -360*x[2]\n",
    "    H_w[3,3] = 200.2\n",
    "    \n",
    "    return H_w"
   ]
  },
  {
   "cell_type": "markdown",
   "id": "38f45539",
   "metadata": {},
   "source": [
    "Algoritmo de máximo descenso"
   ]
  },
  {
   "cell_type": "code",
   "execution_count": 336,
   "id": "922c3739",
   "metadata": {},
   "outputs": [],
   "source": [
    "x_0 = np.array([-3,-1,-3,-1])\n",
    "x = np.ones(4)"
   ]
  },
  {
   "cell_type": "code",
   "execution_count": 347,
   "id": "c441bed8",
   "metadata": {},
   "outputs": [],
   "source": [
    "x_sol1 = SDA(x_0,alpha,f_wood,Df_wood,5)"
   ]
  },
  {
   "cell_type": "code",
   "execution_count": 348,
   "id": "c3bd67e5",
   "metadata": {},
   "outputs": [
    {
     "data": {
      "text/plain": [
       "array([7.64522097e+60, 1.42971683e+40, 6.73837784e+53, 2.73384829e+35])"
      ]
     },
     "execution_count": 348,
     "metadata": {},
     "output_type": "execute_result"
    }
   ],
   "source": [
    "x_sol1"
   ]
  },
  {
   "cell_type": "markdown",
   "id": "911aff96",
   "metadata": {},
   "source": [
    "Algoritmo de Newton"
   ]
  },
  {
   "cell_type": "code",
   "execution_count": null,
   "id": "c06eb1dc",
   "metadata": {},
   "outputs": [],
   "source": []
  },
  {
   "cell_type": "markdown",
   "id": "0abcb28f",
   "metadata": {},
   "source": [
    "# Tercera función de prueba"
   ]
  },
  {
   "cell_type": "code",
   "execution_count": 16,
   "id": "212df6a6",
   "metadata": {},
   "outputs": [],
   "source": [
    "#Guardamos los valores de lambda que vamos a usar\n",
    "lamd = [1,10,1000] \n",
    "\n",
    "#Generamos nuestra muestra normal\n",
    "n=128\n",
    "sigma = 1\n",
    "s = np.random.normal(0, sigma,n)\n",
    "\n",
    "#Creamos nuestro conjunto de datos y\n",
    "t = [(2*(i-1))/(n-1)-1 for i in range(1,n+1)]\n",
    "y = [t[i]**2+s[i] for i in range(0,n)]"
   ]
  },
  {
   "cell_type": "code",
   "execution_count": 17,
   "id": "e491646d",
   "metadata": {},
   "outputs": [],
   "source": [
    "#Definimos la función f\n",
    "\n",
    "def f(x):\n",
    "    sum1 = sum([(x[i]-y[i])**2 for i in range(0,n)])\n",
    "    sum2 = sum([(x[i+1]-x[i])**2 for i in range(0,n-1)])\n",
    "    return sum1 + lamd*sum2"
   ]
  },
  {
   "cell_type": "code",
   "execution_count": null,
   "id": "4fcf7e83",
   "metadata": {},
   "outputs": [],
   "source": []
  }
 ],
 "metadata": {
  "kernelspec": {
   "display_name": "Python 3 (ipykernel)",
   "language": "python",
   "name": "python3"
  },
  "language_info": {
   "codemirror_mode": {
    "name": "ipython",
    "version": 3
   },
   "file_extension": ".py",
   "mimetype": "text/x-python",
   "name": "python",
   "nbconvert_exporter": "python",
   "pygments_lexer": "ipython3",
   "version": "3.9.13"
  }
 },
 "nbformat": 4,
 "nbformat_minor": 5
}
