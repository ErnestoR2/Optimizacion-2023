{
 "cells": [
  {
   "cell_type": "markdown",
   "id": "1c0aa552",
   "metadata": {},
   "source": [
    "# Ernesto Antonio Reyes Ramírez\n",
    "\n",
    "# Optimización\n",
    "\n",
    "# Tarea 4 "
   ]
  },
  {
   "cell_type": "code",
   "execution_count": 5,
   "id": "0d397d04",
   "metadata": {},
   "outputs": [],
   "source": [
    "import numpy as np\n",
    "from numpy import linalg as LA\n",
    "from sympy.solvers import solve"
   ]
  },
  {
   "cell_type": "markdown",
   "id": "25568d19",
   "metadata": {},
   "source": [
    "El algoritmo de descenso máximo con tamaño de paso fijo"
   ]
  },
  {
   "cell_type": "code",
   "execution_count": 6,
   "id": "ba10305a",
   "metadata": {},
   "outputs": [],
   "source": [
    "alpha = 1e-3\n",
    "\n",
    "def SDA(x_0,alpha,f,grad_f,ite):\n",
    "    k = 0\n",
    "    x = x_0\n",
    "    g = grad_f(x)\n",
    "    \n",
    "    while LA.norm(g) != 0 and k < ite:\n",
    "        x = x - alpha*g\n",
    "        g = grad_f(x)\n",
    "        k = k+1\n",
    "        \n",
    "    return x"
   ]
  },
  {
   "cell_type": "markdown",
   "id": "65530693",
   "metadata": {},
   "source": [
    "Algoritmo de Newton"
   ]
  },
  {
   "cell_type": "code",
   "execution_count": null,
   "id": "6547feea",
   "metadata": {},
   "outputs": [],
   "source": [
    "def Newton_alg(x_0,alpha,f,grad_f,hess_f,ite):\n",
    "    k = 0\n",
    "    x = x_0\n",
    "    g = grad_f(x)\n",
    "    H = hess_f(x)\n",
    "    w = -g\n",
    "    \n",
    "    d = np.linalg.solve(H,w)\n",
    "    \n",
    "    while LA.norm(g) != 0 and k < ite:\n",
    "        x = x + d\n",
    "        g = grad_f(x)\n",
    "        H = hess_f(x)\n",
    "        w = -g\n",
    "    \n",
    "        d = np.linalg.solve(H,w)\n",
    "        k = k+1\n",
    "        \n",
    "    return x"
   ]
  },
  {
   "cell_type": "markdown",
   "id": "3e3cf87e",
   "metadata": {},
   "source": [
    "# Función de Rosembrock"
   ]
  },
  {
   "cell_type": "code",
   "execution_count": 1,
   "id": "612928ef",
   "metadata": {},
   "outputs": [],
   "source": [
    "#Función Rosembrock \n",
    "\n",
    "def f_Ros(x):\n",
    "    evaluation = sum([100*(x[i+1]-x[i])**2 + (1-x[i])**2 for i in range(0,n-1)])\n",
    "    return evaluation\n",
    "\n",
    "def Df_Ros(x):\n",
    "    grad_f = np.zeros(n)\n",
    "    grad_f[0] = 400*(x[0]**3) - 400*x[0]*x[1]+2*x[0]-2\n",
    "    grad_f[n-1] = 200*x[n-1]-200*(x[n-2]**2) \n",
    "    \n",
    "    for i in range(1,n-1):\n",
    "        grad_f[i] = 400*(x[i]**3) + 202*x[i] - 400*x[i]*x[i+1]-200*(x[i-1]**2) - 2\n",
    "    \n",
    "    return grad_f\n",
    "\n",
    "\n",
    "def H_Ros(x):\n",
    "    h_f = np.zeros((n,n))\n",
    "    h_f[0,0] = 1200*(x[0]**2) - 400*x[1]+2\n",
    "    h_f[0,1] = -400*x[0]\n",
    "    h_f[n-1,n-2] = -400*x[n-2]\n",
    "    h_f[n-1,n-1] = 200\n",
    "    \n",
    "    for i in range(1,n):\n",
    "        h_f[i,i-1] = -400*x[i-1] \n",
    "    \n",
    "    for i in range(1,n-1):\n",
    "        h_f[i,i] = 1200*(x[i]**2) + 202 - 400*x[i+1]\n",
    "        \n",
    "    for i in range(0,n-1):\n",
    "        h_f[i,i+1] = -400*x[i] \n",
    "        \n",
    "    return h_f"
   ]
  },
  {
   "cell_type": "code",
   "execution_count": 9,
   "id": "9cee35e0",
   "metadata": {},
   "outputs": [],
   "source": [
    "#Primero definimos los puntos iniciales para los algoritmos \n",
    "n = 2\n",
    "x_0 = np.ones(n)\n",
    "\n",
    "x_0[0] = -1.2\n",
    "x_0[n-2] = -1.2\n",
    "\n",
    "x = np.ones(n)\n",
    "\n",
    "#Creamos un punto inicial aleatorio \n",
    "x_r = np.random.rand(n)"
   ]
  },
  {
   "cell_type": "code",
   "execution_count": 10,
   "id": "a4bcc6ab",
   "metadata": {},
   "outputs": [],
   "source": [
    "m = 100\n",
    "x_1 = np.ones(m)\n",
    "\n",
    "x_1[0] = -1.2\n",
    "x_1[n-2] = -1.2\n",
    "\n",
    "x1 = np.ones(m)\n",
    "\n",
    "#Creamos un punto inicial aleatorio \n",
    "x_r1 = np.random.rand(m)"
   ]
  },
  {
   "cell_type": "markdown",
   "id": "154ffe5b",
   "metadata": {},
   "source": [
    "Algoritmo de descenso máximo"
   ]
  },
  {
   "cell_type": "markdown",
   "id": "7d42eaf2",
   "metadata": {},
   "source": [
    "Muestra de $n=2$"
   ]
  },
  {
   "cell_type": "code",
   "execution_count": 11,
   "id": "a1d71e0e",
   "metadata": {},
   "outputs": [],
   "source": [
    "n = 2"
   ]
  },
  {
   "cell_type": "code",
   "execution_count": 12,
   "id": "a898a534",
   "metadata": {},
   "outputs": [],
   "source": [
    "x_sol1 = SDA(x_0,alpha,f_Ros,Df_Ros,100000)"
   ]
  },
  {
   "cell_type": "code",
   "execution_count": 13,
   "id": "0a918b7f",
   "metadata": {},
   "outputs": [
    {
     "data": {
      "text/plain": [
       "1.888712244835108e-13"
      ]
     },
     "execution_count": 13,
     "metadata": {},
     "output_type": "execute_result"
    }
   ],
   "source": [
    "#Calculamos la norma entre nuestro valor aproximado y el real\n",
    "LA.norm(x-x_sol1)"
   ]
  },
  {
   "cell_type": "code",
   "execution_count": 14,
   "id": "2ef5ef3a",
   "metadata": {},
   "outputs": [],
   "source": [
    "x_sol2 = SDA(x_r,alpha,f_Ros,Df_Ros,100000)"
   ]
  },
  {
   "cell_type": "code",
   "execution_count": 15,
   "id": "4521d43f",
   "metadata": {},
   "outputs": [
    {
     "data": {
      "text/plain": [
       "1.888712244835108e-13"
      ]
     },
     "execution_count": 15,
     "metadata": {},
     "output_type": "execute_result"
    }
   ],
   "source": [
    "#Calculamos la norma entre nuestro valor aproximado y el real\n",
    "LA.norm(x-x_sol2)"
   ]
  },
  {
   "cell_type": "markdown",
   "id": "60906740",
   "metadata": {},
   "source": [
    "Prueba con $n=100$"
   ]
  },
  {
   "cell_type": "code",
   "execution_count": 16,
   "id": "bbea48dc",
   "metadata": {},
   "outputs": [],
   "source": [
    "n = 100"
   ]
  },
  {
   "cell_type": "code",
   "execution_count": 17,
   "id": "9ec10eee",
   "metadata": {},
   "outputs": [],
   "source": [
    "x_sol1 = SDA(x_1,alpha,f_Ros,Df_Ros,100000)"
   ]
  },
  {
   "cell_type": "code",
   "execution_count": 18,
   "id": "203fd08f",
   "metadata": {},
   "outputs": [
    {
     "data": {
      "text/plain": [
       "1.9932898447149383"
      ]
     },
     "execution_count": 18,
     "metadata": {},
     "output_type": "execute_result"
    }
   ],
   "source": [
    "#Calculamos la norma entre nuestro valor aproximado y el real\n",
    "LA.norm(x1-x_sol1)"
   ]
  },
  {
   "cell_type": "code",
   "execution_count": 19,
   "id": "3bc827be",
   "metadata": {},
   "outputs": [],
   "source": [
    "x_sol2 = SDA(x_r1,alpha,f_Ros,Df_Ros,100000)"
   ]
  },
  {
   "cell_type": "code",
   "execution_count": 20,
   "id": "8506aa2e",
   "metadata": {},
   "outputs": [
    {
     "data": {
      "text/plain": [
       "1.704494643820944e-13"
      ]
     },
     "execution_count": 20,
     "metadata": {},
     "output_type": "execute_result"
    }
   ],
   "source": [
    "#Calculamos la norma entre nuestro valor aproximado y el real\n",
    "LA.norm(x1-x_sol2)"
   ]
  },
  {
   "cell_type": "markdown",
   "id": "66b87e88",
   "metadata": {},
   "source": [
    "Algoritmo de Newton "
   ]
  },
  {
   "cell_type": "markdown",
   "id": "ec24a7a5",
   "metadata": {},
   "source": [
    "Muestra con $n=2$"
   ]
  },
  {
   "cell_type": "code",
   "execution_count": 21,
   "id": "bbeeeb82",
   "metadata": {},
   "outputs": [],
   "source": [
    "n = 2"
   ]
  },
  {
   "cell_type": "code",
   "execution_count": 22,
   "id": "2ce15ca9",
   "metadata": {},
   "outputs": [],
   "source": [
    "x_sol1 =  Newton_alg(x_0,alpha,f_Ros,Df_Ros,H_Ros,10000)"
   ]
  },
  {
   "cell_type": "code",
   "execution_count": 23,
   "id": "649b084b",
   "metadata": {},
   "outputs": [
    {
     "data": {
      "text/plain": [
       "0.0"
      ]
     },
     "execution_count": 23,
     "metadata": {},
     "output_type": "execute_result"
    }
   ],
   "source": [
    "#Calculamos la norma entre nuestro valor aproximado y el real\n",
    "LA.norm(x-x_sol1)"
   ]
  },
  {
   "cell_type": "code",
   "execution_count": 24,
   "id": "68a314db",
   "metadata": {},
   "outputs": [],
   "source": [
    "x_sol2 = Newton_alg(x_0,alpha,f_Ros,Df_Ros,H_Ros,10000)"
   ]
  },
  {
   "cell_type": "code",
   "execution_count": 25,
   "id": "a5b5e522",
   "metadata": {},
   "outputs": [
    {
     "data": {
      "text/plain": [
       "0.0"
      ]
     },
     "execution_count": 25,
     "metadata": {},
     "output_type": "execute_result"
    }
   ],
   "source": [
    "#Calculamos la norma entre nuestro valor aproximado y el real\n",
    "LA.norm(x-x_sol2)"
   ]
  },
  {
   "cell_type": "markdown",
   "id": "965e8514",
   "metadata": {},
   "source": [
    "Muestra con $n=100$"
   ]
  },
  {
   "cell_type": "code",
   "execution_count": 26,
   "id": "57ab509a",
   "metadata": {},
   "outputs": [],
   "source": [
    "n = 100"
   ]
  },
  {
   "cell_type": "code",
   "execution_count": 27,
   "id": "abecbb0e",
   "metadata": {},
   "outputs": [],
   "source": [
    "x_sol1 =  Newton_alg(x_1,alpha,f_Ros,Df_Ros,H_Ros,10000)"
   ]
  },
  {
   "cell_type": "code",
   "execution_count": 28,
   "id": "3619b6b6",
   "metadata": {},
   "outputs": [
    {
     "data": {
      "text/plain": [
       "1.993289844714938"
      ]
     },
     "execution_count": 28,
     "metadata": {},
     "output_type": "execute_result"
    }
   ],
   "source": [
    "#Calculamos la norma entre nuestro valor aproximado y el real\n",
    "LA.norm(x1-x_sol1)"
   ]
  },
  {
   "cell_type": "code",
   "execution_count": 29,
   "id": "3b675a76",
   "metadata": {},
   "outputs": [],
   "source": [
    "x_sol2 = Newton_alg(x_r1,alpha,f_Ros,Df_Ros,H_Ros,10000)"
   ]
  },
  {
   "cell_type": "code",
   "execution_count": 30,
   "id": "1c78b2da",
   "metadata": {},
   "outputs": [
    {
     "data": {
      "text/plain": [
       "1.9262289489830778e-14"
      ]
     },
     "execution_count": 30,
     "metadata": {},
     "output_type": "execute_result"
    }
   ],
   "source": [
    "#Calculamos la norma entre nuestro valor aproximado y el real\n",
    "LA.norm(x1-x_sol2)"
   ]
  },
  {
   "cell_type": "markdown",
   "id": "58a6ddb1",
   "metadata": {},
   "source": [
    "# Función Wood"
   ]
  },
  {
   "cell_type": "code",
   "execution_count": 2,
   "id": "5ec74d2d",
   "metadata": {},
   "outputs": [],
   "source": [
    "#Función Wood\n",
    "\n",
    "def f_wood(x):\n",
    "    return 100*(x[0]**2 - x[1])**2 + (x[0] - 1)**2 + (x[2] - 1)**2 + 90*(x[2]**2 - x[3])**2 + 10.1*[(x[1] - 1)**2 + (x[3] - 1)**2] + 19.8*(x[1] - 1)*(x[3] - 1)\n",
    "\n",
    "\n",
    "def Df_wood(x):\n",
    "    Df = np.zeros(4)\n",
    "    Df[0] =  -400*x[0]*(x[1] - x[0]**2) - 2*(1 - x[0])\n",
    "    Df[1] = 200*(x[1] - x[0]**2) + 2.02*(x[1] - 1) + 19.8*(x[3] - 1)\n",
    "    Df[2] = -360*x[2]*(x[3] - x[2]**2) - 2*(1 - x[2])\n",
    "    Df[3] =  180*(x[3] - x[2]**2) + 2.02*(x[3] - 1) + 19.8*(x[1] - 1)\n",
    "    \n",
    "    return Df\n",
    "\n",
    "def H_wood(x):\n",
    "    H_w = np.zeros((4,4))\n",
    "    H_w[0,0] = 1200*x[0]**2 -400*x[1] + 2\n",
    "    H_w[0,1] = -400*x[0]\n",
    "    H_w[0,2] = 0\n",
    "    H_w[0,3] = 0\n",
    "    H_w[1,0] = -400*x[0]\n",
    "    H_w[1,1] = 220.2\n",
    "    H_w[1,2] = 0\n",
    "    H_w[1,3] = 19.8\n",
    "    H_w[2,0] = 0\n",
    "    H_w[2,1] = 0\n",
    "    H_w[2,2] = 720*x[2] - 360*x[3] + 2\n",
    "    H_w[2,3] = -360*x[2]\n",
    "    H_2[3,0] = 0 \n",
    "    H_w[3,1] = 19.8\n",
    "    H_w[3,2] = -360*x[2] \n",
    "    H_w[3,3] = 202.2\n",
    "    \n",
    "    return H_w"
   ]
  },
  {
   "cell_type": "markdown",
   "id": "9db7d807",
   "metadata": {},
   "source": [
    "Algoritmo de máximo descenso"
   ]
  },
  {
   "cell_type": "code",
   "execution_count": 32,
   "id": "c521a203",
   "metadata": {},
   "outputs": [],
   "source": [
    "x_0 = np.array([-3,-1,-3,-1])\n",
    "x = np.ones(4)"
   ]
  },
  {
   "cell_type": "code",
   "execution_count": 33,
   "id": "5193c35e",
   "metadata": {},
   "outputs": [],
   "source": [
    "x_sol1 = SDA(x_0,alpha,f_wood,Df_wood,5)"
   ]
  },
  {
   "cell_type": "code",
   "execution_count": 34,
   "id": "c72bcb99",
   "metadata": {},
   "outputs": [
    {
     "data": {
      "text/plain": [
       "array([7.64522097e+60, 1.42971683e+40, 6.73837784e+53, 2.73384829e+35])"
      ]
     },
     "execution_count": 34,
     "metadata": {},
     "output_type": "execute_result"
    }
   ],
   "source": [
    "x_sol1"
   ]
  },
  {
   "cell_type": "markdown",
   "id": "d13c5471",
   "metadata": {},
   "source": [
    "Algoritmo de Newton"
   ]
  },
  {
   "cell_type": "markdown",
   "id": "f4f5b695",
   "metadata": {},
   "source": [
    "# Tercera función de prueba"
   ]
  },
  {
   "cell_type": "code",
   "execution_count": 44,
   "id": "212df6a6",
   "metadata": {},
   "outputs": [],
   "source": [
    "#Guardamos los valores de lambda que vamos a usar\n",
    "lamd = 10 \n",
    "\n",
    "#Generamos nuestra muestra normal\n",
    "n=128\n",
    "sigma = 1\n",
    "s = np.random.normal(0, sigma,n)\n",
    "\n",
    "#Creamos nuestro conjunto de datos y\n",
    "t = [(2*(i-1))/(n-1)-1 for i in range(1,n+1)]\n",
    "y = [t[i]**2+s[i] for i in range(0,n)]"
   ]
  },
  {
   "cell_type": "code",
   "execution_count": 49,
   "id": "e491646d",
   "metadata": {},
   "outputs": [],
   "source": [
    "#Definimos la función f\n",
    "\n",
    "n=128\n",
    "\n",
    "x_0 = np.ones(n)\n",
    "\n",
    "def f(x):\n",
    "    sum1 = sum([(x[i]-y[i])**2 for i in range(0,n)])\n",
    "    sum2 = sum([(x[i+1]-x[i])**2 for i in range(0,n-1)])\n",
    "    return sum1 + lamd*sum2\n",
    "\n",
    "def Df(x):\n",
    "    gra_f = np.zeros(n)\n",
    "    gra_f[0] = 2*((1+lamd)*x[0]-lamd*x[1]-y[0])\n",
    "    gra_f[n-1] = 2*((1+lamd)*x[n-1] - lamd*x[n-2]-y[n-1])\n",
    "    \n",
    "    for i in range(1,n-1):\n",
    "        gra_f[i] = 2*((1+lamd)*x[i]-lamd*x[i-1]-lamd*x[i+1]-y[i])\n",
    "        \n",
    "    return gra_f\n",
    "\n",
    "def H_f(x):\n",
    "    Hf = np.zeros((n,n))\n",
    "    \n",
    "    for i in range(0,n):\n",
    "        Hf[i,i] = 2*(1+lamd)\n",
    "        \n",
    "    for i in range(0,n-1):\n",
    "        Hf[i,i+1] = -lamd\n",
    "        \n",
    "    for i in range(1,n):\n",
    "        Hf[i,i-1] = -lamd\n",
    "    \n",
    "    return Hf"
   ]
  },
  {
   "cell_type": "code",
   "execution_count": 50,
   "id": "4fcf7e83",
   "metadata": {},
   "outputs": [],
   "source": [
    "x_sol1 = SDA(x_0,alpha,f,Df,1000)"
   ]
  },
  {
   "cell_type": "code",
   "execution_count": 51,
   "id": "b844eb86",
   "metadata": {},
   "outputs": [
    {
     "data": {
      "text/plain": [
       "array([ 7603954.64634193, 15029097.04164138, 22109867.09126903,\n",
       "       28705401.62411636, 34707723.1572431 , 40045873.88898318,\n",
       "       44685937.72236539, 48627573.92400062, 51898149.29750427,\n",
       "       54545725.12473316, 56632036.88885914, 58226283.68133983,\n",
       "       59400139.59968275, 60224029.26355324, 60764455.8822009 ,\n",
       "       61082080.60590589, 61230290.55212089, 61254119.3956487 ,\n",
       "       61189525.63402282, 61063126.08636235, 60892509.43941855,\n",
       "       60687203.29128383, 60450270.45669484, 60180393.56812864,\n",
       "       59874211.22548292, 59528607.9152685 , 59142657.62168961,\n",
       "       58718972.97547854, 58264304.24600153, 57789353.68024597,\n",
       "       57307893.57828823, 56835384.32223792, 56387356.22817335,\n",
       "       55977836.07707082, 55618063.76056822, 55315664.62336333,\n",
       "       55074341.89478347, 54894049.47816449, 54771527.1399552 ,\n",
       "       54701039.6153295 , 54675167.84538898, 54685540.05489565,\n",
       "       54723446.39913308, 54780339.15443611, 54848257.27968593,\n",
       "       54920216.30156319, 54990588.84652175, 55055455.21793766,\n",
       "       55112865.30090381, 55162930.50756454, 55207665.62348401,\n",
       "       55250536.04163374, 55295723.87163138, 55347194.25688925,\n",
       "       55407702.14374042, 55477912.6350681 , 55555811.43321893,\n",
       "       55636541.22912951, 55712737.7963    , 55775359.0709769 ,\n",
       "       55814917.29726011, 55822948.56797556, 55793512.06530669,\n",
       "       55724486.37761874, 55618442.44414356, 55482921.72864646,\n",
       "       55330028.00605062, 55175337.39762768, 55036252.12399955,\n",
       "       54930023.31100838, 54871738.76996512, 54872599.6915554 ,\n",
       "       54938762.74669805, 55070934.93260904, 55264769.15948128,\n",
       "       55511958.42429651, 55801799.9523451 , 56122919.1954544 ,\n",
       "       56464828.00242901, 56819037.38835082, 57179553.77877788,\n",
       "       57542712.03013427, 57906434.88952406, 58269113.5849631 ,\n",
       "       58628369.25068221, 58979968.92763006, 59317131.52050167,\n",
       "       59630384.83388709, 59908036.27766597, 60137216.7681569 ,\n",
       "       60305362.09742487, 60401921.69893597, 60420040.32298955,\n",
       "       60357945.32999891, 60219798.9364136 , 60015839.12556516,\n",
       "       59761732.53142435, 59477178.08443899, 59183923.66618677,\n",
       "       58903459.88989474, 58654719.19046337, 58452115.07745717,\n",
       "       58304202.60556938, 58213127.31405217, 58174883.47941802,\n",
       "       58180245.34598897, 58216106.03034502, 58266876.20229171,\n",
       "       58315575.46410489, 58344305.95525132, 58333903.82959144,\n",
       "       58262716.49454466, 58104620.79323733, 57826567.58197992,\n",
       "       57386080.61365271, 56729249.88607094, 55789814.52174708,\n",
       "       54489910.7959788 , 52742948.02089787, 50458859.46575996,\n",
       "       47551640.47554455, 43948682.54427806, 39600976.57161536,\n",
       "       34492886.76091325, 28649985.14156334, 22143470.6776703 ,\n",
       "       15090023.62660294,  7646542.98471068])"
      ]
     },
     "execution_count": 51,
     "metadata": {},
     "output_type": "execute_result"
    }
   ],
   "source": [
    "x_sol1"
   ]
  }
 ],
 "metadata": {
  "kernelspec": {
   "display_name": "Python 3 (ipykernel)",
   "language": "python",
   "name": "python3"
  },
  "language_info": {
   "codemirror_mode": {
    "name": "ipython",
    "version": 3
   },
   "file_extension": ".py",
   "mimetype": "text/x-python",
   "name": "python",
   "nbconvert_exporter": "python",
   "pygments_lexer": "ipython3",
   "version": "3.10.9"
  }
 },
 "nbformat": 4,
 "nbformat_minor": 5
}
