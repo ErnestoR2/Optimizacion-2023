{
 "cells": [
  {
   "cell_type": "markdown",
   "id": "f4ba2126",
   "metadata": {},
   "source": [
    "# Ernesto Anronio Reyes Ramírez\n",
    "\n",
    "# Optimización\n",
    "\n",
    "# Tarea 7"
   ]
  },
  {
   "cell_type": "markdown",
   "id": "48fda678",
   "metadata": {},
   "source": [
    "# Problema 1"
   ]
  },
  {
   "cell_type": "code",
   "execution_count": 1,
   "id": "86e16071",
   "metadata": {},
   "outputs": [],
   "source": [
    "import numpy as np\n",
    "import math"
   ]
  },
  {
   "cell_type": "code",
   "execution_count": 2,
   "id": "2f5b8027",
   "metadata": {},
   "outputs": [
    {
     "name": "stdout",
     "output_type": "stream",
     "text": [
      "(50000, 784) (50000,)\n",
      "(10000, 784) (10000,)\n",
      "(10000, 784) (10000,)\n"
     ]
    }
   ],
   "source": [
    "#Vamos a cargar el conjunto de datos\n",
    "\n",
    "import gzip, pickle\n",
    "with gzip.open(\"mnist.pkl.gz\",\"rb\") as ff:\n",
    "    u = pickle._Unpickler( ff )\n",
    "    u.encoding = \"latin1\"\n",
    "    train, val, test = u.load()\n",
    "    \n",
    "print( train[0].shape, train[1].shape )\n",
    "print( val[0].shape, val[1].shape )\n",
    "print( test[0].shape, test[1].shape )"
   ]
  },
  {
   "cell_type": "code",
   "execution_count": 3,
   "id": "f744c9c5",
   "metadata": {},
   "outputs": [
    {
     "data": {
      "text/plain": [
       "<matplotlib.image.AxesImage at 0x1fab8635150>"
      ]
     },
     "execution_count": 3,
     "metadata": {},
     "output_type": "execute_result"
    },
    {
     "data": {
      "image/png": "[encoded data removed]",
      "text/plain": [
       "<Figure size 640x480 with 1 Axes>"
      ]
     },
     "metadata": {},
     "output_type": "display_data"
    }
   ],
   "source": [
    "#Para analizar un poco la base de datos vamos a ver algunos de sus elementos\n",
    "\n",
    "import matplotlib.pyplot as plt\n",
    "idx = 2 # index of the image\n",
    "im = train[0][idx].reshape(28, -1)\n",
    "plt.imshow(im, cmap=plt.cm.gray)"
   ]
  },
  {
   "cell_type": "code",
   "execution_count": 4,
   "id": "fd336fcc",
   "metadata": {},
   "outputs": [],
   "source": [
    "#A continuación vamos a filtrar nuestros datos para solo trabajar con los dígitos 0 y 1\n",
    "train_filter = np.where((train[1] == 0 ) | (train[1] == 1))\n",
    "test_filter = np.where((test[1] == 0) | (test[1] == 1))"
   ]
  },
  {
   "cell_type": "code",
   "execution_count": 5,
   "id": "c969c11e",
   "metadata": {},
   "outputs": [],
   "source": [
    "X_train, Y_train = train[0][train_filter], train[1][train_filter]\n",
    "X_test, Y_test = test[0][test_filter], test[1][test_filter]"
   ]
  },
  {
   "cell_type": "markdown",
   "id": "8f6e3eac",
   "metadata": {},
   "source": [
    "### Algoritmo de descenso de gradiente con tamaño de paso fijo "
   ]
  },
  {
   "cell_type": "code",
   "execution_count": 6,
   "id": "773dfc6b",
   "metadata": {},
   "outputs": [],
   "source": [
    "# Función sigmoide\n",
    "def sigmoid(z):\n",
    "    return 1 / (1 + np.exp(-z))\n",
    "\n",
    "#Función pi_i definida en la tarea\n",
    "def pi_i(beta,beta0,x):\n",
    "    return sigmoid(x.T@beta + beta0)"
   ]
  },
  {
   "cell_type": "code",
   "execution_count": 7,
   "id": "b20e9237",
   "metadata": {},
   "outputs": [],
   "source": [
    "# Función de entropía cruzada\n",
    "def cross_entropy_loss(y, y_hat):\n",
    "    return -np.mean(y * np.log(y_hat) + (1 - y) * np.log(1 - y_hat))\n",
    "\n",
    "# Gradiente de la función de entropía cruzada\n",
    "def cross_entropy_gradient(X, y, w, b):\n",
    "    m = X.shape[0]\n",
    "    z = np.dot(X, w) + b\n",
    "    y_hat = sigmoid(z)\n",
    "    dw = 1/m * np.dot(X.T, (y_hat - y))\n",
    "    db = 1/m * np.sum(y_hat - y)\n",
    "    return dw, db"
   ]
  },
  {
   "cell_type": "code",
   "execution_count": 35,
   "id": "8d25b6f5",
   "metadata": {},
   "outputs": [],
   "source": [
    "# Gradiente descendente\n",
    "def gradient_descent(X_train, Y_train, w, b, alpha, epochs,batch_size):\n",
    "    for i in range(epochs):\n",
    "        smpIdx = np.random.randint(low=0, high=X_train.shape[0], size=batch_size, dtype='int32') #Tomamos solo una muestra\n",
    "        X = X_train[smpIdx]\n",
    "        y = Y_train[smpIdx]\n",
    "        dw, db = cross_entropy_gradient(X_train, Y_train, w, b)\n",
    "        aux = np.insert(dw,len(dw),db)\n",
    "        norm = np.linalg.norm(aux)\n",
    "        w -= alpha * dw\n",
    "        b -= alpha * db\n",
    "       \n",
    "        if i % 1000 == 0:\n",
    "            loss = cross_entropy_loss(Y_train, sigmoid(np.dot(X_train, w) + b))\n",
    "            print(\"Epoch %d - h = %.4f - ||grad_h|| = %.4f\" % (i, loss,norm))\n",
    "    return w, b"
   ]
  },
  {
   "cell_type": "code",
   "execution_count": 36,
   "id": "da9f0668",
   "metadata": {},
   "outputs": [
    {
     "name": "stdout",
     "output_type": "stream",
     "text": [
      "Epoch 0 - h = 0.4405 - ||grad_h|| = 1.8005\n",
      "Epoch 1000 - h = 0.0070 - ||grad_h|| = 0.0054\n",
      "Epoch 2000 - h = 0.0053 - ||grad_h|| = 0.0032\n",
      "Epoch 3000 - h = 0.0045 - ||grad_h|| = 0.0024\n",
      "Epoch 4000 - h = 0.0041 - ||grad_h|| = 0.0020\n"
     ]
    }
   ],
   "source": [
    "n = X_train.shape[1] #la longitud de cada imagen convertida a vector\n",
    "w = np.zeros(n)      #inicializamos el vector de pesos en ceros\n",
    "b = 0                # inicializamos el sesgo o bias en 0\n",
    "alpha = 0.1          # el tamaño de paso\n",
    "epochs = 5000        # numero de iteraciones o epocas\n",
    "batch_size = 128     # tamaño de los lotes a considerar\n",
    "w, b = gradient_descent(X_train, Y_train, w, b, alpha, epochs,batch_size) "
   ]
  },
  {
   "cell_type": "markdown",
   "id": "3891bc3b",
   "metadata": {},
   "source": [
    "Finalmente, mostramos los máximos de la función encontrados:"
   ]
  },
  {
   "cell_type": "code",
   "execution_count": 37,
   "id": "843698b2",
   "metadata": {},
   "outputs": [
    {
     "name": "stdout",
     "output_type": "stream",
     "text": [
      "Beta_0 =  0.47822171740462666\n",
      "Beta_max =  [ 0.00000000e+00  0.00000000e+00  0.00000000e+00  0.00000000e+00\n",
      "  0.00000000e+00  0.00000000e+00  0.00000000e+00  0.00000000e+00\n",
      "  0.00000000e+00  0.00000000e+00  0.00000000e+00  0.00000000e+00\n",
      "  0.00000000e+00  0.00000000e+00  0.00000000e+00  0.00000000e+00\n",
      "  0.00000000e+00  0.00000000e+00  0.00000000e+00  0.00000000e+00\n",
      "  0.00000000e+00  0.00000000e+00  0.00000000e+00  0.00000000e+00\n",
      "  0.00000000e+00  0.00000000e+00  0.00000000e+00  0.00000000e+00\n",
      "  0.00000000e+00  0.00000000e+00  0.00000000e+00  0.00000000e+00\n",
      "  0.00000000e+00  0.00000000e+00  0.00000000e+00  0.00000000e+00\n",
      "  0.00000000e+00  0.00000000e+00  0.00000000e+00 -2.16868333e-04\n",
      " -4.28653815e-04 -1.76205521e-04  6.81560187e-04 -2.85506965e-03\n",
      " -1.05677922e-02 -5.09763231e-03  0.00000000e+00  0.00000000e+00\n",
      "  0.00000000e+00  0.00000000e+00  0.00000000e+00  0.00000000e+00\n",
      "  0.00000000e+00  0.00000000e+00  0.00000000e+00  0.00000000e+00\n",
      "  0.00000000e+00  0.00000000e+00  0.00000000e+00 -6.00673686e-06\n",
      " -2.07128857e-06  0.00000000e+00 -4.08884289e-05 -5.80266346e-05\n",
      " -1.15106999e-05  0.00000000e+00  4.16657176e-05  1.12327928e-04\n",
      "  4.01175267e-03  3.23987361e-02  1.28415015e-02  1.14486738e-02\n",
      "  1.81246891e-02  3.53335640e-02  9.13454012e-03  1.79789932e-03\n",
      "  4.32125725e-04  0.00000000e+00  0.00000000e+00  0.00000000e+00\n",
      "  0.00000000e+00  0.00000000e+00  0.00000000e+00  0.00000000e+00\n",
      "  0.00000000e+00  0.00000000e+00  0.00000000e+00 -1.73988240e-05\n",
      " -1.06396247e-05 -2.92517143e-05 -2.23577575e-05 -1.22341463e-04\n",
      "  2.15227140e-03  2.50104289e-03  4.02283954e-04  4.99361714e-03\n",
      "  2.46672726e-02  5.20582723e-02  6.56066373e-02  5.39640092e-02\n",
      "  7.35784656e-02  7.70324232e-02  3.42684447e-02  9.81514122e-03\n",
      "  8.15248454e-03  3.60194373e-03  1.32138089e-04 -4.21758699e-05\n",
      " -1.29563285e-04 -3.70906659e-05  0.00000000e+00  0.00000000e+00\n",
      "  0.00000000e+00  0.00000000e+00  0.00000000e+00 -2.39632044e-05\n",
      "  9.43768805e-05  9.22027737e-04 -2.38576303e-04 -1.11687428e-03\n",
      "  2.51733499e-02  4.11905403e-02  1.80091714e-02  2.22905406e-02\n",
      "  6.81651118e-02  1.07193174e-01  7.99877211e-02  6.44378485e-02\n",
      "  4.88086884e-02  6.62742934e-02 -6.02688715e-03  2.47840875e-02\n",
      "  6.66192785e-02  6.59660714e-02  4.64733561e-02  2.28650614e-02\n",
      "  4.33623421e-03 -3.56233623e-05  0.00000000e+00  0.00000000e+00\n",
      "  0.00000000e+00  0.00000000e+00  3.68526721e-05  1.05715440e-04\n",
      "  5.38989459e-04  6.76800818e-03  6.18831957e-03  5.17040193e-03\n",
      "  4.21063445e-02  5.62046369e-02  1.54966237e-02  1.44233666e-02\n",
      "  6.76011704e-02  1.07804577e-01  3.62567906e-02 -1.11642427e-02\n",
      " -2.01486841e-02 -3.93865121e-02 -6.57588974e-02  9.77226226e-04\n",
      "  1.02266294e-01  1.02488461e-01  8.60644380e-02  5.87030788e-02\n",
      "  2.34794233e-02  2.22245048e-04  1.58784226e-05  0.00000000e+00\n",
      "  0.00000000e+00  0.00000000e+00  9.21316803e-06  4.68357412e-04\n",
      "  9.15259700e-04  3.44040769e-03  1.78796633e-02  2.65620651e-02\n",
      "  2.79503961e-02  1.12484366e-02 -2.67511410e-02 -3.07271320e-02\n",
      "  2.11010321e-02  3.80057147e-02  1.43831300e-02 -2.78302079e-02\n",
      " -1.05709071e-01 -1.19089388e-01 -7.74037421e-02 -3.37347400e-02\n",
      "  7.26332553e-02  8.22619109e-02  2.51149251e-02  1.35786087e-02\n",
      "  2.13305080e-02 -1.16336345e-04 -4.90507369e-05 -3.68200722e-05\n",
      "  0.00000000e+00  0.00000000e+00  3.77330130e-05 -8.63728582e-06\n",
      "  2.04320739e-02  2.45572870e-02  2.94274964e-02  4.19379510e-02\n",
      " -2.19214472e-03 -7.20471934e-02 -1.10972955e-01 -1.01973605e-01\n",
      " -2.86725025e-02  1.64897975e-03  8.25814226e-03 -2.39804089e-02\n",
      " -8.70229607e-02 -1.30920595e-01 -1.10331476e-01 -8.05415868e-02\n",
      " -1.58643200e-02 -1.13830512e-02 -4.48160268e-02 -4.12134755e-02\n",
      " -1.83356211e-02 -5.28108058e-03  1.72167460e-05 -7.76752208e-05\n",
      "  0.00000000e+00  0.00000000e+00  3.16439174e-08  9.30286561e-06\n",
      "  1.90178095e-02  2.35213579e-02  1.55687240e-02  2.13360833e-02\n",
      " -2.18342680e-02 -1.02113677e-01 -1.19044366e-01 -7.72563858e-02\n",
      " -8.11897521e-03 -1.94221322e-03  7.16589335e-02  2.50044001e-02\n",
      " -9.28965335e-02 -1.03919191e-01 -8.24363892e-02 -9.32789608e-02\n",
      " -1.17145546e-01 -1.08424862e-01 -9.44587847e-02 -5.80316625e-02\n",
      " -1.84946548e-02 -1.27125094e-03  0.00000000e+00  0.00000000e+00\n",
      "  0.00000000e+00  3.97049525e-05 -3.94717903e-05  8.36605335e-06\n",
      "  2.28072735e-02  1.63867557e-02 -2.41353415e-02 -1.10644664e-02\n",
      " -3.49613408e-02 -6.99486626e-02 -9.03334631e-02 -5.55950251e-02\n",
      " -1.72055811e-02  5.62429900e-02  1.06703009e-01  8.11199841e-02\n",
      "  1.86454501e-02 -1.98938695e-02 -4.63971582e-02 -9.95008938e-02\n",
      " -1.68640544e-01 -1.92149715e-01 -1.44471652e-01 -8.45671602e-02\n",
      " -2.26787059e-02 -1.84322989e-03  2.76287344e-05  0.00000000e+00\n",
      "  0.00000000e+00  6.51945517e-05 -2.03206624e-04 -2.08368949e-04\n",
      "  2.18834544e-02 -5.97218385e-03 -4.90019398e-02 -6.97145817e-02\n",
      " -8.57159633e-02 -6.26564135e-02 -7.28664762e-02 -5.85834667e-02\n",
      " -3.92560305e-02  2.49246106e-02  1.37870986e-01  2.15273158e-01\n",
      "  1.40185245e-01  9.60587137e-03 -7.85988648e-02 -1.36472332e-01\n",
      " -2.19400031e-01 -2.22163929e-01 -1.82336424e-01 -1.03487625e-01\n",
      " -2.95601875e-02 -1.38322792e-03  4.20552192e-05  4.95516353e-06\n",
      "  0.00000000e+00  1.60051459e-05  9.80723410e-06 -3.52643685e-04\n",
      "  1.92312291e-02 -2.71971551e-02 -7.53767804e-02 -1.07670144e-01\n",
      " -1.31206553e-01 -1.09817576e-01 -1.01634773e-01 -1.17294043e-01\n",
      " -9.69155253e-02  2.75268934e-02  2.42517971e-01  3.66882874e-01\n",
      "  2.50711222e-01  2.75039551e-02 -1.32574775e-01 -2.00662234e-01\n",
      " -2.01079586e-01 -2.17089424e-01 -1.95014277e-01 -1.05957431e-01\n",
      " -4.32511412e-02 -1.47879092e-03 -4.99306805e-06  1.83066528e-05\n",
      "  0.00000000e+00 -1.32536186e-05 -7.74471649e-06 -3.19352935e-04\n",
      "  4.90690357e-03 -5.45411887e-02 -9.69466558e-02 -1.15249536e-01\n",
      " -1.54282987e-01 -1.61279530e-01 -1.40642574e-01 -1.93801950e-01\n",
      " -1.86959260e-01  1.00168635e-01  4.28571133e-01  5.05367761e-01\n",
      "  2.78194626e-01 -1.72815386e-02 -2.17614425e-01 -2.36822916e-01\n",
      " -1.90925535e-01 -2.18178380e-01 -1.96090425e-01 -1.31565127e-01\n",
      " -5.56507153e-02 -3.31653410e-03 -1.61151998e-05  2.29833751e-05\n",
      "  1.01833441e-05 -5.21861234e-05 -4.35412948e-05 -5.22379394e-04\n",
      " -1.38508890e-02 -7.66073716e-02 -1.15597475e-01 -1.62385356e-01\n",
      " -1.90754979e-01 -1.96141445e-01 -2.19255344e-01 -2.81300385e-01\n",
      " -1.77472133e-01  2.81495473e-01  5.98106509e-01  5.59534714e-01\n",
      "  2.32228903e-01 -7.67921105e-02 -3.15772354e-01 -2.34895471e-01\n",
      " -1.59888075e-01 -2.33056612e-01 -2.14632891e-01 -1.44156204e-01\n",
      " -6.33827142e-02 -5.50221498e-03  4.68089018e-06  0.00000000e+00\n",
      "  0.00000000e+00  0.00000000e+00  9.41035171e-06  4.24204344e-05\n",
      " -2.05138739e-02 -9.39730508e-02 -1.58866041e-01 -2.08928780e-01\n",
      " -1.90429270e-01 -1.89156856e-01 -3.05171338e-01 -2.96714104e-01\n",
      " -6.50792913e-02  4.02725138e-01  7.02277838e-01  5.25515651e-01\n",
      "  1.58678797e-01 -1.66023103e-01 -3.52125713e-01 -2.20126024e-01\n",
      " -1.93040603e-01 -2.28617574e-01 -1.85727079e-01 -1.41064152e-01\n",
      " -6.53579292e-02 -7.60001614e-03  9.66451507e-06  0.00000000e+00\n",
      "  0.00000000e+00  0.00000000e+00  5.47511372e-05  7.28953620e-04\n",
      " -3.76420081e-02 -1.22339806e-01 -1.76190119e-01 -2.09747014e-01\n",
      " -2.06822807e-01 -2.45804500e-01 -3.47235070e-01 -2.13236296e-01\n",
      "  9.67387667e-02  5.17078584e-01  7.09060990e-01  4.02732970e-01\n",
      "  2.55270717e-02 -2.46825107e-01 -2.80151534e-01 -2.13095753e-01\n",
      " -2.03079008e-01 -2.04505948e-01 -1.66892849e-01 -1.33506697e-01\n",
      " -5.99312851e-02 -6.29591353e-03  3.86580603e-06  0.00000000e+00\n",
      "  0.00000000e+00  9.70314967e-06  3.69696267e-05 -6.51240497e-04\n",
      " -4.64855467e-02 -1.34017463e-01 -1.82927760e-01 -2.26628157e-01\n",
      " -2.46526549e-01 -3.20567943e-01 -2.84341967e-01 -6.73599020e-02\n",
      "  1.93541496e-01  5.07913096e-01  5.32745618e-01  2.79793987e-01\n",
      " -7.31886395e-02 -2.55075726e-01 -2.14531470e-01 -2.06925106e-01\n",
      " -2.17891467e-01 -1.78257352e-01 -1.49799727e-01 -1.06437127e-01\n",
      " -1.97161866e-02  5.27297150e-03  9.80012442e-05 -3.08612046e-05\n",
      "  0.00000000e+00  4.14945787e-05  1.52414966e-05 -1.12009098e-03\n",
      " -5.52820405e-02 -1.44123184e-01 -1.87930294e-01 -2.29914881e-01\n",
      " -2.68143970e-01 -2.92678522e-01 -1.84125779e-01  1.50350241e-02\n",
      "  2.08376635e-01  3.89970921e-01  3.36350643e-01  1.74872862e-01\n",
      " -8.80499536e-02 -2.28807958e-01 -2.11101066e-01 -1.99567639e-01\n",
      " -1.92956453e-01 -1.41500561e-01 -1.22608448e-01 -7.38752377e-02\n",
      "  6.76125504e-03  3.52423286e-02  1.55823080e-04 -2.63244745e-04\n",
      "  6.32740283e-07  6.68773294e-06  1.73198825e-06 -1.27426195e-03\n",
      " -5.67022251e-02 -1.43619227e-01 -1.76570427e-01 -2.07899940e-01\n",
      " -2.43813175e-01 -2.01709404e-01 -9.78246212e-02 -7.59992931e-04\n",
      "  1.55797250e-01  2.39139284e-01  1.96871645e-01  7.30781826e-02\n",
      " -6.64094780e-02 -1.91991255e-01 -1.58103813e-01 -1.80831313e-01\n",
      " -1.14441105e-01 -9.56195885e-02 -8.31101975e-02 -3.44632654e-02\n",
      "  2.86093754e-02  3.75459262e-02  2.12636446e-04  8.28120818e-05\n",
      "  3.16370141e-06 -6.54834504e-04 -6.54369028e-04 -2.00723628e-03\n",
      " -5.18505172e-02 -1.36148684e-01 -1.37442007e-01 -1.39436242e-01\n",
      " -1.68567050e-01 -1.00056939e-01 -2.76489209e-02  2.41564989e-03\n",
      "  5.10968021e-02  1.17013466e-01  1.24229511e-01  7.68977904e-02\n",
      " -8.01236856e-03 -9.26570843e-02 -8.75256416e-02 -8.08606408e-02\n",
      " -4.99366172e-02 -3.50865601e-02 -1.58241189e-02  2.11385122e-02\n",
      "  4.86155315e-02  3.81877655e-02  1.45659384e-04  5.90722425e-05\n",
      "  0.00000000e+00 -1.69324908e-03 -1.17508137e-03 -6.75361936e-04\n",
      " -3.73860251e-02 -7.60419358e-02 -3.76478578e-02 -6.91940671e-02\n",
      " -6.21845480e-02 -1.58598791e-02 -1.47528989e-02 -1.95896826e-02\n",
      " -2.65444063e-02  2.43894107e-02  1.08166760e-01  1.11199574e-01\n",
      "  3.92659074e-02  4.24566323e-02  6.28658105e-02  5.15306719e-02\n",
      "  4.80598766e-02  2.41201628e-02  4.20175134e-02  6.68255620e-02\n",
      "  5.95891737e-02  2.88634218e-02  1.03882418e-04  0.00000000e+00\n",
      "  5.76256092e-06  1.80080029e-06 -1.01598774e-04  5.36809059e-03\n",
      " -4.88957883e-04  3.63772759e-02  8.42985460e-02  8.13214055e-02\n",
      "  6.89564818e-02  3.20272184e-02 -6.00527531e-02 -1.21823778e-01\n",
      " -1.17000394e-01 -2.86307061e-02  5.89241389e-02  6.43785457e-02\n",
      "  6.53639118e-02  9.01943219e-02  1.04803753e-01  1.01322406e-01\n",
      "  1.37125200e-01  1.11415850e-01  4.93299721e-02  4.37368925e-02\n",
      "  5.19166762e-02  2.02387459e-02 -3.50708612e-04 -4.25258619e-06\n",
      "  5.58248089e-06  1.80080029e-06  9.38671499e-05  3.07422048e-03\n",
      "  3.66207760e-02  7.99290778e-02  7.41811362e-02  7.41684300e-02\n",
      "  8.63482056e-02  5.15155502e-02 -9.26274085e-02 -1.99536295e-01\n",
      " -2.24942944e-01 -1.24929127e-01 -4.85616826e-02 -9.35828219e-03\n",
      "  1.57840533e-02  5.48762708e-02  6.66753695e-02  5.82621189e-02\n",
      "  9.73462908e-02  7.08808757e-02  1.60574235e-02  9.93461232e-03\n",
      "  1.06554529e-02  7.74264819e-03 -6.12092834e-06 -7.85092835e-06\n",
      "  0.00000000e+00  0.00000000e+00  0.00000000e+00  1.21515986e-05\n",
      "  2.01419990e-02  3.84824408e-02  4.21576431e-02  2.38408716e-02\n",
      "  3.45941904e-02  5.60172748e-02 -5.96300831e-02 -1.54052904e-01\n",
      " -1.63366882e-01 -1.30345669e-01 -7.99315133e-02 -1.22176626e-02\n",
      "  1.75625768e-02  1.61119341e-02  1.42274649e-02  2.64996491e-02\n",
      "  4.87019499e-02  1.26259520e-02  7.49079523e-04 -4.05401231e-04\n",
      " -4.15611942e-06  4.49233963e-05  9.16067427e-05  0.00000000e+00\n",
      "  0.00000000e+00  0.00000000e+00  0.00000000e+00  1.19782046e-06\n",
      "  1.27352658e-03  9.94817467e-03  1.53462044e-02  2.06404140e-02\n",
      "  2.41641879e-02  3.53705640e-02  3.67248281e-02 -1.24714404e-02\n",
      " -6.13752590e-02 -6.02147048e-02 -4.37727927e-02  4.63031625e-03\n",
      "  1.65353127e-02  2.25563960e-02  1.30708554e-02  1.22609764e-02\n",
      "  6.02589829e-03  6.71314277e-03  2.49159164e-03  3.62544372e-05\n",
      " -9.95405454e-06  5.20777079e-05  9.88252373e-06  0.00000000e+00\n",
      "  0.00000000e+00  0.00000000e+00  0.00000000e+00  0.00000000e+00\n",
      "  0.00000000e+00  1.55000415e-04  4.08318297e-04  1.93768460e-03\n",
      "  4.11992988e-03  1.94406011e-03  7.06425603e-04 -3.35433714e-03\n",
      "  2.61235434e-02  1.42841602e-02  1.64213110e-02  1.99616424e-02\n",
      "  4.00806399e-03 -2.10330584e-04 -4.49535970e-05  0.00000000e+00\n",
      "  0.00000000e+00  0.00000000e+00  0.00000000e+00  0.00000000e+00\n",
      "  0.00000000e+00  0.00000000e+00  0.00000000e+00  0.00000000e+00\n",
      "  0.00000000e+00  0.00000000e+00  0.00000000e+00  0.00000000e+00\n",
      "  0.00000000e+00  0.00000000e+00  0.00000000e+00  0.00000000e+00\n",
      "  0.00000000e+00  0.00000000e+00  1.11863555e-04  6.34901255e-05\n",
      "  0.00000000e+00  0.00000000e+00  2.68976817e-03  8.02727689e-03\n",
      "  2.68976817e-03  0.00000000e+00  0.00000000e+00  0.00000000e+00\n",
      "  0.00000000e+00  0.00000000e+00  0.00000000e+00  0.00000000e+00\n",
      "  0.00000000e+00  0.00000000e+00  0.00000000e+00  0.00000000e+00\n",
      "  0.00000000e+00  0.00000000e+00  0.00000000e+00  0.00000000e+00\n",
      "  0.00000000e+00  0.00000000e+00  0.00000000e+00  0.00000000e+00\n",
      "  0.00000000e+00  0.00000000e+00  0.00000000e+00  0.00000000e+00\n",
      "  0.00000000e+00  0.00000000e+00  0.00000000e+00  0.00000000e+00\n",
      "  0.00000000e+00  0.00000000e+00  0.00000000e+00  0.00000000e+00\n",
      "  0.00000000e+00  0.00000000e+00  0.00000000e+00  0.00000000e+00\n",
      "  0.00000000e+00  0.00000000e+00  0.00000000e+00  0.00000000e+00]\n"
     ]
    }
   ],
   "source": [
    "print(\"Beta_0 = \", b)\n",
    "print(\"Beta_max = \", w)"
   ]
  },
  {
   "cell_type": "markdown",
   "id": "ee17db00",
   "metadata": {},
   "source": [
    "### Prueba con el conjunto de Test"
   ]
  },
  {
   "cell_type": "markdown",
   "id": "201a2cd8",
   "metadata": {},
   "source": [
    "Vamos a calcular el error planteado en el punto (2)"
   ]
  },
  {
   "cell_type": "code",
   "execution_count": 38,
   "id": "607a1cdd",
   "metadata": {},
   "outputs": [],
   "source": [
    "#Definimos la función indicadora\n",
    "def ind_function(w,b,x):\n",
    "    return 1 if pi_i(w,b,x)>=0.5 else 0\n",
    "\n",
    "#Definimos la función de error\n",
    "def error(w,b,X,y):\n",
    "    e = (1.0/len(y))*sum([abs(ind_function(w,b,X[i]) - y[i]) for i in range(len(y))])\n",
    "    return e"
   ]
  },
  {
   "cell_type": "code",
   "execution_count": 39,
   "id": "fa93bd67",
   "metadata": {},
   "outputs": [
    {
     "name": "stdout",
     "output_type": "stream",
     "text": [
      "Error sobre el conjunto de prueba:  0.00047281323877068556\n"
     ]
    }
   ],
   "source": [
    "err = error(w,b,X_test,Y_test)\n",
    "print(\"Error sobre el conjunto de prueba: \", err)"
   ]
  },
  {
   "cell_type": "markdown",
   "id": "229ef1b6",
   "metadata": {},
   "source": [
    "Como complemento vamos a gregar otra manera de medir que tan buena ha sido la solución llamado Accurary. Esta medida es el porcetanje de casos que logramos acertar, y como podemos ver es un porcentaje demasiado alto. "
   ]
  },
  {
   "cell_type": "code",
   "execution_count": 40,
   "id": "3f20c8d3",
   "metadata": {},
   "outputs": [
    {
     "name": "stdout",
     "output_type": "stream",
     "text": [
      "Accuracy: 0.9995271867612293\n"
     ]
    }
   ],
   "source": [
    "def predict(X, w, b):\n",
    "    z = np.dot(X, w) + b\n",
    "    return sigmoid(z)\n",
    "\n",
    "Y_pred = predict(X_test, w, b)\n",
    "Y_pred_class = np.where(Y_pred >= 0.5, 1, 0)\n",
    "\n",
    "accuracy = np.mean(Y_pred_class == Y_test)\n",
    "print(\"Accuracy:\", accuracy)"
   ]
  },
  {
   "cell_type": "markdown",
   "id": "e6998dd6",
   "metadata": {},
   "source": [
    "Finalmente para hacer uso de las herramientas visuales mostraremos algunos ejemplos sobre las predicciones que se obtuvieron."
   ]
  },
  {
   "cell_type": "code",
   "execution_count": 41,
   "id": "fd3bfc4c",
   "metadata": {},
   "outputs": [
    {
     "name": "stdout",
     "output_type": "stream",
     "text": [
      "Etiqueta real:  1\n",
      "Etiqueta estimada con el modelo:  1\n"
     ]
    },
    {
     "data": {
      "image/png": "[encoded data removed]",
      "text/plain": [
       "<Figure size 640x480 with 1 Axes>"
      ]
     },
     "metadata": {},
     "output_type": "display_data"
    }
   ],
   "source": [
    "idx = 2 # index of the image\n",
    "im = X_test[idx].reshape(28, -1)\n",
    "plt.imshow(im, cmap=plt.cm.gray)\n",
    "\n",
    "print(\"Etiqueta real: \", Y_test[idx])\n",
    "print(\"Etiqueta estimada con el modelo: \", Y_pred_class[idx])"
   ]
  },
  {
   "cell_type": "markdown",
   "id": "14c306ac",
   "metadata": {},
   "source": [
    "### Algoritmo de Newton"
   ]
  },
  {
   "cell_type": "markdown",
   "id": "2eece182",
   "metadata": {},
   "source": [
    "En el algoritmo anterior definimos la función de entropia cruzada y su gradiente, por lo que ahora solo vamos a definir su matriz hessiana"
   ]
  },
  {
   "cell_type": "code",
   "execution_count": 16,
   "id": "999c66bb",
   "metadata": {},
   "outputs": [],
   "source": [
    "def cross_entropy_hessian(X,w,b):\n",
    "    m = X.shape[0]\n",
    "    y_pred = sigmoid(np.dot(X, w) + b)\n",
    "    d = y_pred * (1 - y_pred)\n",
    "    hess_w = (1/m)*np.dot(X.T * d, X)\n",
    "    hess_b = (1/m)*np.sum(d)\n",
    "    return hess_w, hess_b"
   ]
  },
  {
   "cell_type": "code",
   "execution_count": 42,
   "id": "854f0d68",
   "metadata": {},
   "outputs": [],
   "source": [
    "def newton_method(X_train, Y_train, w_init, b_init, epochs=100, tol=1e-5):\n",
    "    w, b = w_init, b_init\n",
    "    for i in range(epochs):\n",
    "        grad_w, grad_b = cross_entropy_gradient(X_train, Y_train, w, b)\n",
    "        hess_w, hess_b = cross_entropy_hessian(X_train,w,b)\n",
    "        # regularización para mejorar la estabilidad si es necesario\n",
    "        eps = 1e-6\n",
    "        hess_w += np.eye(hess_w.shape[0]) * eps\n",
    "        hess_b += eps\n",
    "        # actualizar los pesos y sesgo usando el método de Newton modificado\n",
    "        delta_w = np.linalg.solve(hess_w, -grad_w)\n",
    "        delta_b = (-grad_b)/hess_b \n",
    "        w += delta_w\n",
    "        b += delta_b\n",
    "        \n",
    "        #Calculamos el valor de la función en el punto en el que vamos\n",
    "        loss = cross_entropy_loss(Y_train, sigmoid(np.dot(X_train, w) + b))\n",
    "        aux = np.insert(grad_w,len(grad_w),grad_b)\n",
    "        norm = np.linalg.norm(aux)\n",
    "        print(\"Epoch %d - h = %.4f - ||grad_h|| = %.4f\" % (i, loss,norm))\n",
    "        \n",
    "        # verificar si se ha alcanzado la tolerancia\n",
    "        aux = np.linalg.norm(np.insert(w,len(w),b))\n",
    "        if  aux < tol:\n",
    "            break\n",
    "        \n",
    "    return w,b"
   ]
  },
  {
   "cell_type": "code",
   "execution_count": 43,
   "id": "b0d7e086",
   "metadata": {},
   "outputs": [
    {
     "name": "stdout",
     "output_type": "stream",
     "text": [
      "Epoch 0 - h = 0.1444 - ||grad_h|| = 1.8005\n",
      "Epoch 1 - h = 0.0538 - ||grad_h|| = 0.4911\n",
      "Epoch 2 - h = 0.0218 - ||grad_h|| = 0.1641\n",
      "Epoch 3 - h = 0.0092 - ||grad_h|| = 0.0618\n",
      "Epoch 4 - h = 0.0039 - ||grad_h|| = 0.0236\n",
      "Epoch 5 - h = 0.0016 - ||grad_h|| = 0.0092\n",
      "Epoch 6 - h = 0.0007 - ||grad_h|| = 0.0036\n",
      "Epoch 7 - h = 0.0003 - ||grad_h|| = 0.0014\n",
      "Epoch 8 - h = 0.0001 - ||grad_h|| = 0.0005\n",
      "Epoch 9 - h = 0.0000 - ||grad_h|| = 0.0002\n"
     ]
    }
   ],
   "source": [
    "n = X_train.shape[1] #la longitud de cada imagen convertida a vector\n",
    "w_init = np.zeros(n)      #inicializamos el vector de pesos en ceros\n",
    "b_init = 0                # inicializamos el sesgo o bias en 0\n",
    "epochs = 10       # numero de iteraciones o epocas\n",
    "\n",
    "w2,b2 = newton_method(X_train, Y_train, w_init, b_init, epochs, tol=1e-5)"
   ]
  },
  {
   "cell_type": "markdown",
   "id": "6957a1fb",
   "metadata": {},
   "source": [
    "Los valores máximos encontrados mediante el algoritmo de Newton modificado son:"
   ]
  },
  {
   "cell_type": "code",
   "execution_count": 21,
   "id": "bdbad440",
   "metadata": {},
   "outputs": [
    {
     "name": "stdout",
     "output_type": "stream",
     "text": [
      "Beta_0 =  0.09495183293731416\n",
      "Beta_max =  [ 0.00000000e+00  0.00000000e+00  0.00000000e+00  0.00000000e+00\n",
      "  0.00000000e+00  0.00000000e+00  0.00000000e+00  0.00000000e+00\n",
      "  0.00000000e+00  0.00000000e+00  0.00000000e+00  0.00000000e+00\n",
      "  0.00000000e+00  0.00000000e+00  0.00000000e+00  0.00000000e+00\n",
      "  0.00000000e+00  0.00000000e+00  0.00000000e+00  0.00000000e+00\n",
      "  0.00000000e+00  0.00000000e+00  0.00000000e+00  0.00000000e+00\n",
      "  0.00000000e+00  0.00000000e+00  0.00000000e+00  0.00000000e+00\n",
      "  0.00000000e+00  0.00000000e+00  0.00000000e+00  0.00000000e+00\n",
      "  0.00000000e+00  0.00000000e+00  0.00000000e+00  0.00000000e+00\n",
      "  0.00000000e+00  0.00000000e+00  0.00000000e+00 -5.23465965e-01\n",
      " -1.03466320e+00 -4.25316096e-01  1.10136212e+00 -1.28529974e+00\n",
      " -2.43696646e+00 -1.16394792e+00  0.00000000e+00  0.00000000e+00\n",
      "  0.00000000e+00  0.00000000e+00  0.00000000e+00  0.00000000e+00\n",
      "  0.00000000e+00  0.00000000e+00  0.00000000e+00  0.00000000e+00\n",
      "  0.00000000e+00  0.00000000e+00  0.00000000e+00  1.57196466e-01\n",
      "  5.42056780e-02  0.00000000e+00 -2.15712532e+00  1.12579865e-01\n",
      "  1.95321167e-01  0.00000000e+00 -5.94680221e-02  3.79473010e-01\n",
      " -4.70518013e+00  6.01804473e+00  2.18288280e+00  2.17924636e+00\n",
      "  7.64086808e-01  9.69644367e+00  4.22314562e+00  2.79891123e+00\n",
      "  5.82333147e+00  0.00000000e+00  0.00000000e+00  0.00000000e+00\n",
      "  0.00000000e+00  0.00000000e+00  0.00000000e+00  0.00000000e+00\n",
      "  0.00000000e+00  0.00000000e+00  0.00000000e+00  4.55327695e-01\n",
      "  1.51201590e+00 -1.56226533e+00  5.88746700e-01 -2.60676816e-01\n",
      " -2.51214825e+00  1.35151226e-01 -3.13144478e-01 -5.69411180e-02\n",
      "  7.20011988e-01  1.96318298e+00 -4.98621235e-01 -6.73924825e-02\n",
      "  5.41964320e-01  3.14877178e-01  1.71261271e+00  4.22207985e-01\n",
      " -1.24955868e+00  9.15848100e-01 -4.43806173e-01 -1.00670011e-01\n",
      " -9.81142786e-01 -2.80876170e-01  0.00000000e+00  0.00000000e+00\n",
      "  0.00000000e+00  0.00000000e+00  0.00000000e+00 -1.07869278e-01\n",
      "  4.56145350e-01  3.11965361e+00  8.83194392e-01 -1.71987213e+00\n",
      " -3.46387430e-01  3.72276674e+00 -2.46134994e+00 -1.18464825e+00\n",
      "  1.39079061e+00 -2.05404041e-01 -6.22897928e-01  4.29445491e-02\n",
      " -8.69108566e-01  1.09955787e+00 -6.38158077e-01 -1.07618016e+00\n",
      "  1.42378251e-01 -1.46365523e+00  8.60967731e-02 -2.88795869e+00\n",
      " -6.88297489e-01  3.00447011e-01  0.00000000e+00  0.00000000e+00\n",
      "  0.00000000e+00  0.00000000e+00  2.42088316e-01 -7.04240203e-01\n",
      "  9.75765579e-02  2.80822195e+00 -4.39133444e-01  8.60315509e-01\n",
      " -7.08846304e-01  1.51308852e+00 -8.27538925e-01 -3.98348698e-01\n",
      " -1.01719043e+00  1.93844269e+00 -1.01240982e+00 -8.91726826e-02\n",
      "  6.65341985e-01 -4.35087943e-01 -1.07305217e+00  9.45916626e-01\n",
      "  5.08940638e-01  1.39374055e+00  2.11313373e+00  3.34968618e+00\n",
      " -2.19587416e+00  8.98053959e-01 -6.81223727e-02  0.00000000e+00\n",
      "  0.00000000e+00  0.00000000e+00  6.05220789e-02  1.39608950e+00\n",
      " -2.38852038e+00 -2.91255071e+00 -7.51590467e-01 -1.23168683e+00\n",
      " -1.89146161e+00  3.01384497e-02 -2.05917208e-01 -8.82040448e-01\n",
      "  6.80255643e-01 -6.26783958e-01  1.33969016e+00 -3.99802007e-01\n",
      " -1.44447090e+00  3.23785422e-01  7.38227263e-01 -1.06330278e+00\n",
      "  6.43849971e-02  3.07247570e-02 -9.82144275e-01 -4.26103644e-01\n",
      "  2.37899641e+00  2.94777110e+00 -3.10481680e+00 -2.43224313e-01\n",
      "  0.00000000e+00  0.00000000e+00 -2.53362642e-01 -2.51475971e+00\n",
      "  3.80123537e+00  2.40969082e+00  3.33692352e-02  2.22284651e+00\n",
      " -2.59090508e-01 -2.09084257e+00  9.58978497e-01 -3.10922971e-01\n",
      "  5.65607332e-01 -1.48837168e+00  3.85801817e-01 -3.59178725e-03\n",
      "  1.22039305e+00 -1.21090742e+00 -1.42442270e-01 -4.23633204e-01\n",
      "  1.20707523e+00 -1.02515344e+00 -1.91520718e-01 -9.03223079e-01\n",
      " -2.64558787e+00 -3.79112115e+00  2.48776123e-01 -5.13103345e-01\n",
      "  0.00000000e+00  0.00000000e+00 -5.58618724e-01 -1.29977463e+00\n",
      "  6.91021404e-01 -1.02910881e+00 -1.13457645e+00  1.41662563e+00\n",
      "  7.44239167e-01 -9.71574890e-01 -1.68721287e+00 -7.39274192e-01\n",
      "  9.05420161e-01 -5.63379368e-01  4.98822378e-01  3.21787176e-01\n",
      " -4.47924428e-01 -3.18560167e-01  1.93794108e-01  2.69347844e-01\n",
      " -8.70079152e-01  1.62918020e-01  1.32421456e+00  2.70104252e-01\n",
      " -5.78235143e-02  1.57975610e+00  0.00000000e+00  0.00000000e+00\n",
      "  0.00000000e+00 -1.34267027e-01 -4.62003102e-01  5.84385002e-02\n",
      " -5.34027042e-01  8.01167402e-02  1.75716788e-01 -5.10068576e-01\n",
      " -6.65913326e-02  5.07553652e-01  4.15091150e-01  7.51779808e-01\n",
      " -5.67141035e-01  7.35852106e-01  3.64404566e-01 -2.56058571e-01\n",
      "  9.90718970e-01 -1.19987913e+00  1.05671995e+00  1.50497318e-01\n",
      " -1.35926201e+00 -4.32813651e-01 -1.02917377e+00 -9.99398491e-01\n",
      " -7.05066014e-01 -3.19150000e+00 -3.32073411e-02  0.00000000e+00\n",
      "  0.00000000e+00 -2.20463143e-01 -2.37846041e+00 -2.07066079e+00\n",
      "  1.31482461e+00  2.51653720e-01 -7.50796472e-01  5.15197993e-01\n",
      "  1.11311646e+00  5.06659751e-01 -7.03573544e-01  1.04247672e+00\n",
      " -1.99301457e-01 -8.22826980e-01 -2.05817091e-01  5.36576490e-02\n",
      " -1.52158322e-01 -5.34172423e-02 -6.10190833e-01 -5.57090935e-01\n",
      "  4.10747236e-01  1.45148963e-01  1.57588648e-01 -2.44507964e-01\n",
      " -3.36147676e-01  2.40457429e-01 -1.11618029e-01 -8.71023530e-02\n",
      "  0.00000000e+00 -6.35390602e-02 -1.18759824e-02  2.60592139e-01\n",
      "  3.00058232e+00  1.45747571e+00 -5.39306426e-01 -1.11076105e+00\n",
      " -2.53636009e+00  6.54707069e-01 -1.52465732e+00 -3.96700973e-01\n",
      "  4.82906699e-01  6.73680484e-01 -4.46301324e-01  1.62041273e+00\n",
      "  1.03127951e+00 -1.57731450e+00  1.06193783e-01 -1.65428613e-01\n",
      "  4.06572560e-01 -1.58090375e-01 -2.01811796e+00  3.03862476e-01\n",
      " -9.35169492e-01  1.35970563e+00  9.22998982e-01 -9.44270564e-02\n",
      "  0.00000000e+00 -4.91089076e-01  9.52534249e-01  9.35952459e-01\n",
      " -2.43601038e+00 -3.26390682e-01  3.12492903e-01  1.91852172e+00\n",
      "  8.21735923e-01 -5.02058217e-01  1.81642028e+00 -6.39597801e-01\n",
      " -8.96194297e-01 -5.14294583e-01  3.08750259e-01 -1.14562538e+00\n",
      "  1.03777620e+00 -6.59608191e-01 -7.75115689e-01 -1.26071970e+00\n",
      " -1.47855010e+00 -5.09446448e-01  1.47460894e+00  3.84538681e-01\n",
      "  1.31920557e-01  1.30828986e+00  1.05412934e+00 -9.89967158e-02\n",
      "  3.74983617e-01 -1.93366323e+00  1.14449829e+00 -1.47460241e+00\n",
      " -2.54750648e+00 -1.66001074e+00  2.95389402e-01 -1.06757816e+00\n",
      " -6.31413856e-01 -8.26406385e-01 -1.00543516e+00  3.74796043e-01\n",
      "  2.86252084e-01  2.66653495e+00  4.59318429e-01  1.45588025e+00\n",
      "  1.01911454e+00 -1.76693539e+00  2.58737272e-01  1.61820683e+00\n",
      "  2.09539574e+00 -1.33272181e+00 -1.24484874e+00 -9.04780946e-01\n",
      " -9.80349577e-01 -8.24957839e-01  3.49668495e-01  0.00000000e+00\n",
      "  0.00000000e+00  0.00000000e+00  2.26606846e-01  1.54416959e+00\n",
      " -4.50275297e-01  4.73390101e-01 -2.09730018e-01 -9.02686367e-01\n",
      "  6.30646191e-01 -1.66123998e-01 -7.68243653e-01  2.00721150e-01\n",
      " -4.20905948e-01 -2.43421349e+00  4.02435379e+00  3.03513486e-01\n",
      "  1.20042887e+00  9.71050920e-01 -2.78659931e+00  2.73330706e-01\n",
      " -2.00455701e+00 -1.32816942e+00  3.45013760e-01  2.28623789e-01\n",
      " -9.16375150e-01 -3.99668708e-01  1.51444615e+00  0.00000000e+00\n",
      "  0.00000000e+00  0.00000000e+00  1.31843983e+00  2.66122587e+00\n",
      " -1.64497491e-01 -1.10140315e+00  1.67270146e-01  5.11251146e-02\n",
      " -1.09521809e+00  2.60532798e+00 -1.37672780e+00 -7.83593514e-01\n",
      "  1.09980411e+00  3.28515865e+00  2.38840101e+00 -6.13547691e-01\n",
      "  1.81682880e+00 -3.43702256e+00 -1.04702754e+00 -9.98180139e-01\n",
      "  8.81180202e-01  7.70081804e-01 -6.13659380e-01 -3.14251528e+00\n",
      " -1.13086407e+00 -1.01714754e-01  6.05778459e-01  0.00000000e+00\n",
      "  0.00000000e+00 -6.51328546e-01  8.66504221e-01 -2.46004032e+00\n",
      "  1.26310978e+00 -7.35628440e-01 -3.83555710e-02  5.48765413e-01\n",
      " -1.39409569e-01 -3.08405283e+00  9.04000312e-01  1.25294995e+00\n",
      "  1.79346978e-02 -9.93826280e-01 -2.26150572e-01  1.16366416e-01\n",
      " -8.71015797e-01 -3.22011001e+00  2.45897157e+00 -7.93761402e-01\n",
      " -1.55130307e+00  4.26437128e-01  1.00805444e+00  2.74192065e-01\n",
      "  3.34576191e-01 -4.04813910e-01 -2.26173412e-01 -1.77371469e-02\n",
      "  0.00000000e+00 -3.84232489e-01  1.87452180e-02 -1.72156416e+00\n",
      " -1.40224782e+00  2.13562846e+00  1.90891474e+00 -3.05976816e+00\n",
      " -6.30168710e-01 -1.04010103e+00 -3.72052581e+00 -2.72523078e-01\n",
      "  3.76249717e-01  4.03521537e-01 -1.91689079e-01  9.86159259e-01\n",
      " -3.89312925e-01 -5.52061624e-01 -9.20089171e-01 -6.89695292e-01\n",
      " -1.02337108e+00 -5.54126887e-01 -2.05193809e-01  4.71516088e-01\n",
      " -1.61640388e+00  4.41599050e-01 -2.64929760e-01 -1.39786749e-01\n",
      "  1.48593365e-02  6.45496781e-02  2.13013841e-03 -1.67087420e+00\n",
      " -5.36376704e-02 -1.92936081e+00 -2.53838506e+00  1.01836518e+00\n",
      "  4.39915598e-01  7.98548891e-01 -1.85894042e-01 -7.19093328e-01\n",
      "  1.87335971e+00  1.19453756e+00  1.13932507e+00 -4.56428848e-01\n",
      "  1.35449695e+00 -3.34692620e+00  1.40654192e+00 -1.72425315e+00\n",
      "  3.44920281e-01 -1.06321891e+00 -5.35721304e-02 -9.28651969e-01\n",
      "  1.14389058e+00 -2.70476474e-01 -1.14940699e-01  8.19256780e-01\n",
      "  7.42966824e-02 -4.38625719e-01 -1.32752148e+00  6.87459250e-01\n",
      " -1.66080519e+00 -2.02183810e+00 -7.90333380e-02  5.18611078e-01\n",
      " -1.41977757e+00 -1.66121289e-01  1.01386372e+00 -3.32992950e-01\n",
      " -3.59800435e-01  5.95531069e-01 -5.98691684e-01  1.76285288e+00\n",
      "  1.26724519e+00  1.99958467e-01 -1.22451409e+00 -9.23459543e-02\n",
      " -1.08853207e-01  2.33197733e-01 -6.07905294e-01  4.21451597e-02\n",
      " -2.01158650e+00  5.08424824e+00 -3.36161853e-01  4.28997812e-01\n",
      "  0.00000000e+00 -2.12819808e+00 -1.59654758e+00 -1.05689123e+00\n",
      " -1.05948510e+00  7.24137061e-01  6.82462464e-01 -9.47580660e-02\n",
      "  5.77632323e-01  9.61562818e-01  9.03943434e-01  6.31998188e-01\n",
      " -1.15641018e-01 -1.30051263e+00  1.98695528e-01  1.20303270e+00\n",
      " -9.12844743e-01  2.01849940e+00  1.58038884e+00 -1.40030692e+00\n",
      " -4.82833309e-01 -2.69004502e+00 -1.15978034e-02  3.23743495e+00\n",
      "  2.66945964e+00  1.68232396e+00  3.01381008e-01  0.00000000e+00\n",
      " -1.63742935e-01 -5.11696673e-02 -1.74244531e+00  3.21764218e+00\n",
      " -2.28339009e+00  4.82110658e-01  5.04301901e-01  1.37374144e+00\n",
      "  2.55852683e-01 -4.59373931e-01 -1.18990928e+00 -7.26354543e-02\n",
      "  3.07903979e-02  9.06464690e-01  7.74624301e-01 -1.25112489e+00\n",
      "  1.02876951e+00 -4.05994846e-01  2.30726171e+00  8.75704736e-01\n",
      "  2.37600940e+00  1.09818624e+00 -6.31267931e-01 -3.29066347e-01\n",
      "  3.31432183e+00  2.06239062e+00 -3.57558676e+00  7.74064882e-01\n",
      " -1.58625969e-01 -5.11696673e-02  1.16681514e+00 -4.27869799e-01\n",
      "  2.22930005e-01  3.00318950e+00 -1.64391317e-01  9.83472616e-01\n",
      " -1.11022951e+00  8.87280361e-01  2.41884730e-01 -2.84760712e-01\n",
      " -1.20174398e+00 -5.62577581e-01  2.32113130e-01 -2.74509389e-01\n",
      " -1.02178334e+00 -1.25612156e-01  1.48704943e+00 -1.36634714e+00\n",
      "  2.18551077e+00 -8.52947447e-01 -6.94509953e-01 -5.62688041e-01\n",
      " -3.68554353e+00 -1.72535591e-02  3.10674820e-01  1.42904286e+00\n",
      "  0.00000000e+00  0.00000000e+00  0.00000000e+00  2.97931597e+00\n",
      "  5.44891558e-01  9.62082577e-01 -7.49786428e-01 -1.06595796e+00\n",
      " -1.15140735e+00  2.48191743e+00 -1.79758587e+00  1.90969141e-01\n",
      "  6.00925758e-01 -9.54299265e-02 -4.22479477e-01  3.53805710e-01\n",
      " -3.77589936e-01  8.07951705e-01 -5.70928359e-01 -2.02370949e+00\n",
      "  2.25056783e+00 -3.47924072e-02 -4.08853744e+00  1.20570260e+00\n",
      "  1.43154187e+00 -9.26157756e-01  9.58701450e-02  0.00000000e+00\n",
      "  0.00000000e+00  0.00000000e+00  0.00000000e+00 -7.17759097e-03\n",
      " -9.30474828e-01 -3.26251904e+00 -5.24549441e-01  1.02855626e+00\n",
      " -1.19257355e+00 -7.86944734e-01  9.84863269e-01 -1.91277688e-01\n",
      " -1.61029519e+00  5.01216898e-01 -9.48834342e-01  1.70330673e-02\n",
      " -7.61645069e-01  3.70935019e+00 -3.88323328e+00  3.97628707e+00\n",
      " -1.91487275e+00  3.27071873e+00  2.87677470e+00  1.35707671e-01\n",
      "  3.91631822e-01  9.30647439e-01  3.44025766e-01  0.00000000e+00\n",
      "  0.00000000e+00  0.00000000e+00  0.00000000e+00  0.00000000e+00\n",
      "  0.00000000e+00  7.23871235e-01  8.76734283e-01  2.89771269e+00\n",
      "  2.28564516e+00  1.79079130e+00  9.40568838e-01 -3.90486527e+00\n",
      "  6.02657932e+00 -3.88874978e-01  1.47128284e+00  6.16922932e-01\n",
      " -5.20518602e-01 -4.35671866e+00 -1.65216709e+00  0.00000000e+00\n",
      "  0.00000000e+00  0.00000000e+00  0.00000000e+00  0.00000000e+00\n",
      "  0.00000000e+00  0.00000000e+00  0.00000000e+00  0.00000000e+00\n",
      "  0.00000000e+00  0.00000000e+00  0.00000000e+00  0.00000000e+00\n",
      "  0.00000000e+00  0.00000000e+00  0.00000000e+00  0.00000000e+00\n",
      "  0.00000000e+00  0.00000000e+00 -4.22826898e-02 -2.39982834e-02\n",
      "  0.00000000e+00  0.00000000e+00  1.27363461e+00  3.80100330e+00\n",
      "  1.27363461e+00  0.00000000e+00  0.00000000e+00  0.00000000e+00\n",
      "  0.00000000e+00  0.00000000e+00  0.00000000e+00  0.00000000e+00\n",
      "  0.00000000e+00  0.00000000e+00  0.00000000e+00  0.00000000e+00\n",
      "  0.00000000e+00  0.00000000e+00  0.00000000e+00  0.00000000e+00\n",
      "  0.00000000e+00  0.00000000e+00  0.00000000e+00  0.00000000e+00\n",
      "  0.00000000e+00  0.00000000e+00  0.00000000e+00  0.00000000e+00\n",
      "  0.00000000e+00  0.00000000e+00  0.00000000e+00  0.00000000e+00\n",
      "  0.00000000e+00  0.00000000e+00  0.00000000e+00  0.00000000e+00\n",
      "  0.00000000e+00  0.00000000e+00  0.00000000e+00  0.00000000e+00\n",
      "  0.00000000e+00  0.00000000e+00  0.00000000e+00  0.00000000e+00]\n"
     ]
    }
   ],
   "source": [
    "print(\"Beta_0 = \", b2)\n",
    "print(\"Beta_max = \", w2)"
   ]
  },
  {
   "cell_type": "markdown",
   "id": "4cdd81f6",
   "metadata": {},
   "source": [
    "Finalmente, calculamos el error definido en el punto (2) sobre el conjunto de prueba"
   ]
  },
  {
   "cell_type": "code",
   "execution_count": 19,
   "id": "0d816e70",
   "metadata": {},
   "outputs": [
    {
     "name": "stdout",
     "output_type": "stream",
     "text": [
      "Error sobre el conjunto de prueba:  0.00047281323877068556\n"
     ]
    }
   ],
   "source": [
    "error2 = error(w2,b2,X_test,Y_test)\n",
    "print(\"Error sobre el conjunto de prueba: \", error2)"
   ]
  },
  {
   "cell_type": "markdown",
   "id": "55e2f1ac",
   "metadata": {},
   "source": [
    "Agreamos el cálculo del acurray también para tener otra métrica sobre el rendimiento "
   ]
  },
  {
   "cell_type": "code",
   "execution_count": 20,
   "id": "4fee5cd6",
   "metadata": {},
   "outputs": [
    {
     "name": "stdout",
     "output_type": "stream",
     "text": [
      "Accuracy: 0.9995271867612293\n"
     ]
    }
   ],
   "source": [
    "Y_pred2 = predict(X_test, w2, b2)\n",
    "Y_pred_class2 = np.where(Y_pred2 >= 0.5, 1, 0)\n",
    "\n",
    "accuracy2 = np.mean(Y_pred_class2 == Y_test)\n",
    "print(\"Accuracy:\", accuracy2)"
   ]
  },
  {
   "cell_type": "markdown",
   "id": "1c5adeaf",
   "metadata": {},
   "source": [
    "Un ejemplo visual de la predicción sería el siguiente. "
   ]
  },
  {
   "cell_type": "code",
   "execution_count": 32,
   "id": "3cf491da",
   "metadata": {},
   "outputs": [
    {
     "name": "stdout",
     "output_type": "stream",
     "text": [
      "Etiqueta real:  0\n",
      "Etiqueta estimada con el modelo:  0\n"
     ]
    },
    {
     "data": {
      "image/png": "[encoded data removed]",
      "text/plain": [
       "<Figure size 640x480 with 1 Axes>"
      ]
     },
     "metadata": {},
     "output_type": "display_data"
    }
   ],
   "source": [
    "idx = 3 # index of the image\n",
    "im = X_test[idx].reshape(28, -1)\n",
    "plt.imshow(im, cmap=plt.cm.gray)\n",
    "\n",
    "print(\"Etiqueta real: \", Y_test[idx])\n",
    "print(\"Etiqueta estimada con el modelo: \", Y_pred_class2[idx])"
   ]
  }
 ],
 "metadata": {
  "kernelspec": {
   "display_name": "Python 3 (ipykernel)",
   "language": "python",
   "name": "python3"
  },
  "language_info": {
   "codemirror_mode": {
    "name": "ipython",
    "version": 3
   },
   "file_extension": ".py",
   "mimetype": "text/x-python",
   "name": "python",
   "nbconvert_exporter": "python",
   "pygments_lexer": "ipython3",
   "version": "3.10.9"
  }
 },
 "nbformat": 4,
 "nbformat_minor": 5
}
