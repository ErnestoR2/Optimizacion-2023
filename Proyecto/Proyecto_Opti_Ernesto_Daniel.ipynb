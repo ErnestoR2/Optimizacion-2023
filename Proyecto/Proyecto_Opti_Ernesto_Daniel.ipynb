{
 "cells": [
  {
   "attachments": {},
   "cell_type": "markdown",
   "metadata": {},
   "source": [
    "# Ernesto Antonio Reyes Ramírez\n",
    "# Antonio Daniel Reyes Ramírez\n",
    "\n",
    "# Proyecto Final: Optimización\n",
    "# CIMAT"
   ]
  },
  {
   "cell_type": "code",
   "execution_count": 1,
   "metadata": {},
   "outputs": [],
   "source": [
    "# importamos las librerías necesarias\n",
    "import pycutest\n",
    "from argparse import Namespace\n",
    "import numpy as np\n",
    "import numpy.linalg as LA\n",
    "import matplotlib.pyplot as plt"
   ]
  },
  {
   "attachments": {},
   "cell_type": "markdown",
   "metadata": {},
   "source": [
    "### Funciones elementales para ambos métodos de optimización"
   ]
  },
  {
   "cell_type": "code",
   "execution_count": 2,
   "metadata": {},
   "outputs": [],
   "source": [
    "# mu_k que corresponde a la ecuación (2) en el reporte\n",
    "def calculate_mu(f_prev, f_curr, g_curr,s_prev, y_prev):\n",
    "    muk = np.abs(2*(f_prev - f_curr + np.dot(g_curr,s_prev)/np.dot(s_prev,y_prev)) - 1)\n",
    "    return muk"
   ]
  },
  {
   "cell_type": "code",
   "execution_count": 3,
   "metadata": {},
   "outputs": [],
   "source": [
    "# tamaños de paso alpha_BB1 y alpha_BB2 que son mencionados en la introducción del reporte\n",
    "def alpha_B1(s_prev,y_prev):\n",
    "    return LA.norm(s_prev)**2/(np.dot(s_prev,y_prev))\n",
    "\n",
    "\n",
    "def alpha_B2(s_prev,y_prev):\n",
    "    return (np.dot(s_prev,y_prev))/LA.norm(y_prev)**2"
   ]
  },
  {
   "cell_type": "code",
   "execution_count": 4,
   "metadata": {},
   "outputs": [],
   "source": [
    "# calculo del tamaño de paso alpha_AOS(2) que corresponde a la ecuación (11) en el reporte\n",
    "def alpha_AOS2(g_k,B_k):\n",
    "    return np.dot(g_k,g_k)/np.dot(g_k, B_k@g_k)\n",
    "\n",
    "def alpha_AOS2_aprox(g_prev,g_curr,s_prev,B_k):\n",
    "    return np.max([np.min([alpha_AOS2(g_curr,B_k), alpha_B1(s_prev,g_curr-g_prev)]), alpha_B2(s_prev,g_curr-g_prev)])"
   ]
  },
  {
   "cell_type": "code",
   "execution_count": 5,
   "metadata": {},
   "outputs": [],
   "source": [
    "# cálculo del tamaño de paso alpha_AOS(11) correspondiente a la ecuación (6) en el reporte\n",
    "def alpha_AOS11(g_k,B_k,sigma_k):\n",
    "    delta = np.dot(g_k, B_k@g_k)**2 + 4*sigma_k*LA.norm(g_k)**5\n",
    "    return (2*LA.norm(g_k)**2)/(np.sqrt(delta) + np.dot(g_k, B_k@g_k))\n",
    "\n",
    "\n",
    "def alpha_AOS11_aprox(g_prev,g_curr,s_prev,B_k,sigma_k):\n",
    "    return np.max([np.min([alpha_AOS11(g_curr,B_k,sigma_k), alpha_B1(s_prev,g_curr-g_prev)]), alpha_B2(s_prev,g_curr-g_prev)])"
   ]
  },
  {
   "cell_type": "code",
   "execution_count": 6,
   "metadata": {},
   "outputs": [],
   "source": [
    "# cálculo del tamaño de paso alpha_AOS(31) correspondiente a la ecuación (15) en el reporte\n",
    "def alpha_AOS31(g_curr,alpha_prev,s_prev,y_prev,sigma_curr):\n",
    "    return (2*(LA.norm(g_curr)**2)*alpha_prev**2)/(np.sqrt(np.abs(np.dot(s_prev, y_prev))**2 + 4*(alpha_prev**4)*sigma_curr*LA.norm(g_curr)**5) + np.abs(np.dot(s_prev, y_prev)))"
   ]
  },
  {
   "cell_type": "code",
   "execution_count": 7,
   "metadata": {},
   "outputs": [],
   "source": [
    "# cálculo del tamaño de paso alpha_AOS(32) correspondiente a la ecuación (16) en el reporte\n",
    "def alpha_AOS4(eps,alpha_prev):\n",
    "    return eps*alpha_prev"
   ]
  },
  {
   "cell_type": "code",
   "execution_count": 8,
   "metadata": {},
   "outputs": [],
   "source": [
    "# función para actualizar el tamaño de paso alpha correspondiente a la ecuación (22) en el reporte\n",
    "def update_alpha(alpha_hat,alpha,alphak_0):\n",
    "    if alpha > 0.1*alphak_0 and 0.1*alphak_0 < alpha_hat < 0.9*alpha:\n",
    "        return alpha_hat\n",
    "    else:\n",
    "        return 0.5*alpha"
   ]
  },
  {
   "cell_type": "code",
   "execution_count": 9,
   "metadata": {},
   "outputs": [],
   "source": [
    "# cálculo del valor r_hat que se utiliza para calcular el regularizador de la ecuación (10) en el reporte\n",
    "def r_hat(s_prev,y_prev,B):\n",
    "    return 3*(np.dot(s_prev, y_prev) - np.dot(s_prev, B@s_prev))\n",
    "\n",
    "\n",
    "def r_hat_aprox(s_prev,y_prev,B,xi1):\n",
    "    return np.min([np.max([r_hat(s_prev,y_prev,B),-xi1*np.dot(s_prev, y_prev)]),xi1*np.dot(s_prev, y_prev)])"
   ]
  },
  {
   "cell_type": "code",
   "execution_count": 10,
   "metadata": {},
   "outputs": [],
   "source": [
    "# cálculo del regularizador sigma1 correspondiente a la ecuación (10) en el reporte\n",
    "def sigma1(p,f_prev,f_curr,g_curr,s_prev,y_prev,B,xi1):\n",
    "    r = r_hat_aprox(s_prev,y_prev,B,xi1)\n",
    "    return (p*(f_prev - f_curr + np.dot(g_curr, s_prev) - 0.5*(np.dot(s_prev, y_prev) + r)))/(LA.norm(s_prev)**p)\n",
    "\n",
    "\n",
    "def sigma1_aprox(p,f_prev,f_curr,g_curr,s_prev,y_prev,B,xi1,sigmax,sigmin):\n",
    "    sigma = sigma1(p,f_prev,f_curr,g_curr,s_prev,y_prev,B,xi1)\n",
    "    return np.max([np.min([np.abs(sigma),sigmax]),sigmin])"
   ]
  },
  {
   "cell_type": "code",
   "execution_count": 11,
   "metadata": {},
   "outputs": [],
   "source": [
    "# cálculo del regularizador sigma3 correspondiente a la ecuación (17) en el reporte\n",
    "def sigma3(p,f_prev,f_curr,g_curr,s_prev,y_prev):\n",
    "    return (p*(f_prev - f_curr + np.dot(g_curr, s_prev) - 0.5*(np.dot(s_prev, y_prev))))/(LA.norm(s_prev)**p)\n",
    "\n",
    "\n",
    "def sigma3_aprox(p,f_prev,f_curr,g_curr,s_prev,y_prev,sigmax,sigmin):\n",
    "    sigma = sigma3(p,f_prev,f_curr,g_curr,s_prev,y_prev)\n",
    "    return np.max([np.min([np.abs(sigma),sigmax]),sigmin])"
   ]
  },
  {
   "cell_type": "code",
   "execution_count": 12,
   "metadata": {},
   "outputs": [],
   "source": [
    "# cálculo del tamaño de paso alpha_AOS(32) correspondiente a la ecuación (16) en el reporte\n",
    "def alpha_AOS32(gk,sigmak,y_prev,s_prev,alpha_prev):\n",
    "    delta = (1.0)/(4*(sigmak**2)*LA.norm(gk)**4) + np.abs(np.dot(s_prev,y_prev))**3/(27*(sigmak**3)*(alpha_prev*6)*LA.norm(gk)**12)\n",
    "    return np.cbrt((1.0)/(2*sigmak*LA.norm(gk)**2) + np.sqrt(delta) ) + np.cbrt((1.0)/(2*sigmak*LA.norm(gk)**2) - np.sqrt(delta) )\n",
    "\n",
    "\n",
    "def alpha_AOS32_aprox(g_curr,sigmak,s_prev,y_prev,alpha_prev):\n",
    "    return np.max([np.min([alpha_AOS32(g_curr,sigmak,y_prev,s_prev,alpha_prev),alpha_B1(s_prev,y_prev)]),alpha_B2(s_prev,y_prev)])"
   ]
  },
  {
   "cell_type": "code",
   "execution_count": 13,
   "metadata": {},
   "outputs": [],
   "source": [
    "# cálculo del tamaño de paso alpha_AOS(12) correpondiente a la ecuación (9) en el reporte\n",
    "def alpha_AOS12(gk,sigmak,Bk):\n",
    "    delta = (1.0)/(4*sigmak*LA.norm(gk)) + (np.dot(gk,Bk@gk))**3/(27*sigmak*LA.norm(gk)**2)\n",
    "    return np.cbrt((1.0)/(2*sigmak*LA.norm(gk)**2) + np.sqrt(delta) ) + np.cbrt((1.0)/(2*sigmak*LA.norm(gk)**2) - np.sqrt(delta) )\n",
    "\n",
    "\n",
    "def alpha_AOS12_aprox(g_curr,B_curr,sigmak,s_prev,y_prev):\n",
    "    return np.max([np.min([alpha_AOS12(g_curr,sigmak,B_curr),alpha_B1(s_prev,y_prev)]),alpha_B2(s_prev,y_prev)])"
   ]
  },
  {
   "attachments": {},
   "cell_type": "markdown",
   "metadata": {},
   "source": [
    "### Dos métodos de optimización con tamaños de paso aproximadamente óptimos"
   ]
  },
  {
   "cell_type": "code",
   "execution_count": 14,
   "metadata": {},
   "outputs": [],
   "source": [
    "# función para calcular el tamaño de paso aproximadamente óptimo con p = 3\n",
    "def GM_AOS3(epsilon,delta,c,c1,c2,alphaMax,alphaMin,alpha0_0,sigmaMin,sigmaMax,\n",
    "           xi0,xi1,xi2,xi3,p, MAX):\n",
    "    gradients = [] # arreglo donde guardaremos los valores del gradiente\n",
    "\n",
    "    k = 0\n",
    "    Qk = 1\n",
    "    x0 = p.x0\n",
    "    n = p.n\n",
    "    f_curr,g_curr = p.obj(x0, gradient = True)\n",
    "    d_curr = g_curr\n",
    "    Ck = f_curr\n",
    "    x_curr = x0\n",
    "    alphak_0 = alpha0_0\n",
    "    gradients.append(d_curr)\n",
    "\n",
    "    for k in range(MAX):\n",
    "    #paso 1\n",
    "        if LA.norm(d_curr, ord = np.inf) <= epsilon:\n",
    "            break\n",
    "    #paso 2\n",
    "        if k == 0:\n",
    "            alpha = alphak_0\n",
    "            mu_curr = -np.inf\n",
    "        else:\n",
    "            s_prev = x_curr - x_prev\n",
    "            y_prev = g_curr - g_prev\n",
    "            cond1 = np.dot(s_prev,y_prev)\n",
    "            mu_curr = calculate_mu(f_prev,f_curr,g_curr,s_prev,y_prev)\n",
    "            B_curr = p.hess(x_curr)\n",
    "\n",
    "            if cond1 > 0:\n",
    "            # paso 2.3\n",
    "                if mu_curr <= c1 or np.max([mu_curr,mu_prev])<= c2:\n",
    "                    alpha = alpha_AOS2_aprox(g_prev,g_curr,s_prev,B_curr)\n",
    "            #paso 2.2\n",
    "                else:\n",
    "                    B_aux = p.hess(x_prev + mu_curr*s_prev) # Verificar con otros valores de mu\n",
    "                    sigma_curr = sigma1_aprox(3,f_prev,f_curr,g_curr,s_prev,y_prev,B_aux,xi1,sigmaMax,sigmaMin) #Cambiar por 3 y 4 dependiendo\n",
    "                    alpha = alpha_AOS11_aprox(g_prev,g_curr,s_prev,B_curr,sigma_curr)\n",
    "            else:\n",
    "            # paso 2.4\n",
    "                cond2 = LA.norm(g_prev)**2/LA.norm(g_curr)**2\n",
    "                if cond2 >= xi2:\n",
    "                    sigma_curr = sigma3_aprox(3,f_prev,f_curr,g_curr,s_prev,y_prev,sigmaMax,sigmaMin) #3o 4\n",
    "                    alpha = alpha_AOS31(g_curr,alphak,s_prev,y_prev,sigma_curr)\n",
    "            # paso 2.5\n",
    "                else:\n",
    "                    alpha = alpha_AOS4(xi3,alphak) \n",
    "        # paso 2.6\n",
    "            alphak_0 = np.max([np.min([alphak,alphaMax]),alphaMin])\n",
    "            alpha = alphak_0\n",
    "        # paso 3\n",
    "        f_aux = p.obj(x_curr-alpha*g_curr, gradient= False)\n",
    "\n",
    "        for i in range(1): #experimentar\n",
    "            if f_aux > Ck - delta*alpha*LA.norm(g_curr)**2: \n",
    "                alpha = 0.5*alpha\n",
    "            else:\n",
    "                break\n",
    "\n",
    "        #paso 5\n",
    "        x_prev = x_curr\n",
    "        x_curr = x_prev - alpha*g_curr\n",
    "        g_prev = g_curr\n",
    "        f_prev = f_curr\n",
    "        f_curr,g_curr = p.obj(x_curr, gradient = True)\n",
    "        d_curr = g_curr\n",
    "        g_curr = g_curr/LA.norm(g_curr, ord = np.inf)\n",
    "        mu_prev = mu_curr\n",
    "        gradients.append(d_curr)\n",
    "        \n",
    "        # paso 4\n",
    "        if k%n == n-1:\n",
    "            etak = c\n",
    "        else:\n",
    "            etak = 1\n",
    "\n",
    "        Qk = etak*Qk + 1\n",
    "        Ck = (etak*Qk*Ck + f_curr )/Qk\n",
    "\n",
    "        alphak = alpha \n",
    "\n",
    "    \n",
    "    return x_curr, g_curr, k, gradients"
   ]
  },
  {
   "cell_type": "code",
   "execution_count": 15,
   "metadata": {},
   "outputs": [],
   "source": [
    "# función para calcular el tamaño de paso aproximadamente óptimo con p = 4\n",
    "def GM_AOS4(epsilon,delta,c,c1,c2,alphaMax,alphaMin,alpha0_0,sigmaMin,sigmaMax,\n",
    "           xi0,xi1,xi2,xi3,p, MAX):\n",
    "    gradients = [] # arreglo donde guardaremos los valores del gradiente\n",
    "\n",
    "    k = 0\n",
    "    Qk = 1\n",
    "    x0 = p.x0\n",
    "    n = p.n\n",
    "    f_curr,g_curr = p.obj(x0, gradient = True)\n",
    "    d_curr = g_curr\n",
    "    Ck = f_curr\n",
    "    x_curr = x0\n",
    "    alphak_0 = alpha0_0\n",
    "    gradients.append(d_curr)\n",
    "\n",
    "    for k in range(MAX):\n",
    "    #paso 1\n",
    "        if LA.norm(d_curr, ord = np.inf) <= epsilon:\n",
    "            break\n",
    "    #paso 2\n",
    "        if k == 0:\n",
    "            alpha = alphak_0\n",
    "            mu_curr = -np.inf\n",
    "        else:\n",
    "            s_prev = x_curr - x_prev\n",
    "            y_prev = g_curr - g_prev\n",
    "            cond1 = np.dot(s_prev,y_prev)\n",
    "            mu_curr = calculate_mu(f_prev,f_curr,g_curr,s_prev,y_prev)\n",
    "            B_curr = p.hess(x_curr)\n",
    "\n",
    "            if cond1 > 0:\n",
    "            # paso 2.3\n",
    "                if mu_curr <= c1 or np.max([mu_curr,mu_prev])<= c2:\n",
    "                    alpha = alpha_AOS2_aprox(g_prev,g_curr,s_prev,B_curr)\n",
    "            #paso 2.2\n",
    "                else:\n",
    "                    B_aux = p.hess(x_prev + mu_curr*s_prev) # Verificar con otros valores de mu\n",
    "                    sigma_curr = sigma1_aprox(4,f_prev,f_curr,g_curr,s_prev,y_prev,B_aux,xi1,sigmaMax,sigmaMin) #Cambiar por 3 y 4 dependiendo\n",
    "                    alpha = alpha_AOS12_aprox(g_curr,B_curr,sigma_curr,s_prev,y_prev)\n",
    "            else:\n",
    "            # paso 2.4\n",
    "                cond2 = LA.norm(g_prev)**2/LA.norm(g_curr)**2\n",
    "                if cond2 >= xi2:\n",
    "                    sigma_curr = sigma3_aprox(4,f_prev,f_curr,g_curr,s_prev,y_prev,sigmaMax,sigmaMin) #3o 4\n",
    "                    alpha = alpha_AOS32_aprox(g_curr,sigma_curr,s_prev,y_prev,alphak)\n",
    "            # paso 2.5\n",
    "                else:\n",
    "                    alpha = alpha_AOS4(xi3,alphak) \n",
    "        # paso 2.6\n",
    "            alphak_0 = np.max([np.min([alphak,alphaMax]),alphaMin])\n",
    "            alpha = alphak_0\n",
    "        # paso 3\n",
    "        f_aux = p.obj(x_curr-alpha*g_curr, gradient= False)\n",
    "\n",
    "        for i in range(1): #experimentar\n",
    "            if f_aux > Ck - delta*alpha*LA.norm(g_curr)**2: \n",
    "                alpha = 0.5*alpha\n",
    "            else:\n",
    "                break\n",
    "\n",
    "        #paso 5\n",
    "        x_prev = x_curr\n",
    "        x_curr = x_prev - alpha*g_curr\n",
    "        g_prev = g_curr\n",
    "        f_prev = f_curr\n",
    "        f_curr,g_curr = p.obj(x_curr, gradient = True)\n",
    "        d_curr = g_curr\n",
    "        g_curr = g_curr/LA.norm(g_curr, ord = np.inf)\n",
    "        mu_prev = mu_curr\n",
    "        gradients.append(d_curr)\n",
    "        \n",
    "        # paso 4\n",
    "        if k%n == n-1:\n",
    "            etak = c\n",
    "        else:\n",
    "            etak = 1\n",
    "\n",
    "        Qk = etak*Qk + 1\n",
    "        Ck = (etak*Qk*Ck + f_curr )/Qk\n",
    "\n",
    "        alphak = alpha \n",
    "\n",
    "    \n",
    "    return x_curr, g_curr, k, gradients"
   ]
  },
  {
   "attachments": {},
   "cell_type": "markdown",
   "metadata": {},
   "source": [
    "## Pruebas del método con p = 3"
   ]
  },
  {
   "attachments": {},
   "cell_type": "markdown",
   "metadata": {},
   "source": [
    "**Función ROSENBR**"
   ]
  },
  {
   "cell_type": "code",
   "execution_count": 16,
   "metadata": {},
   "outputs": [
    {
     "name": "stdout",
     "output_type": "stream",
     "text": [
      "CUTEst problem ROSENBR (default params) with 2 variables and 0 constraints\n"
     ]
    }
   ],
   "source": [
    "p = pycutest.import_problem('ROSENBR')\n",
    "print(p)"
   ]
  },
  {
   "cell_type": "code",
   "execution_count": 17,
   "metadata": {},
   "outputs": [],
   "source": [
    "# función para calcular el tamaño de paso inicial alpha_0\n",
    "def calculate_ini_alpha(x0,f0,g0):\n",
    "    if LA.norm(x0, ord = np.inf) < 10e-30:\n",
    "        if np.abs(f0) >= 10e-30:\n",
    "            return 2*np.abs(f0)/LA.norm(g0, ord = np.inf)**2\n",
    "        else:\n",
    "            return 1\n",
    "    else:\n",
    "        if LA.norm(g0, ord = np.inf) >= 10e7:\n",
    "            aux = np.min([1, np.max([LA.norm(x0, ord = np.inf)/LA.norm(g0, ord = np.inf),1/LA.norm(g0, ord = np.inf)])])\n",
    "            return aux\n",
    "        else:\n",
    "            aux = np.min([1, LA.norm(x0, ord = np.inf)/LA.norm(g0, ord = np.inf)])\n",
    "            return aux"
   ]
  },
  {
   "cell_type": "code",
   "execution_count": 18,
   "metadata": {},
   "outputs": [],
   "source": [
    "# definimos los parámetros \n",
    "epsilon = 10e-6\n",
    "delta = 10e-4\n",
    "c = 0.99\n",
    "MAX = 100000\n",
    "c1 = 10e-9\n",
    "c2 = 10e-7\n",
    "alphaMax = 10e30\n",
    "alphaMin = 10e-30\n",
    "sigmaMin = 10e-30\n",
    "sigmaMax = 10e3\n",
    "xi0 = 1.07\n",
    "xi1 = 5*10e-5/3\n",
    "xi2 = 0.8\n",
    "xi3 = 5\n",
    "x0 = p.x0\n",
    "f0, g0 = p.obj(x0, gradient = True)\n",
    "alpha0 = calculate_ini_alpha(x0,f0,g0)"
   ]
  },
  {
   "cell_type": "code",
   "execution_count": 19,
   "metadata": {},
   "outputs": [],
   "source": [
    "xk, gk, iter, gradients = GM_AOS3(epsilon,delta,c,c1,c2,alphaMax,alphaMin,alpha0,sigmaMin,sigmaMax,\n",
    "           xi0,xi1,xi2,xi3,p, MAX)"
   ]
  },
  {
   "cell_type": "code",
   "execution_count": 20,
   "metadata": {},
   "outputs": [
    {
     "name": "stdout",
     "output_type": "stream",
     "text": [
      "Número de iteraciones:  8255\n",
      "Norma final del gradiente:  9.836662173690058e-06\n"
     ]
    }
   ],
   "source": [
    "print(\"Número de iteraciones: \",iter)\n",
    "print(\"Norma final del gradiente: \", LA.norm(gradients[-1], np.inf))"
   ]
  },
  {
   "cell_type": "code",
   "execution_count": 21,
   "metadata": {},
   "outputs": [
    {
     "data": {
      "image/png": "[encoded data removed]",
      "text/plain": [
       "<Figure size 600x600 with 1 Axes>"
      ]
     },
     "metadata": {},
     "output_type": "display_data"
    }
   ],
   "source": [
    "# vector con la norma de los gradientes\n",
    "grad_norm = [LA.norm(g, ord = np.inf) for g in gradients]\n",
    "z = range(len(grad_norm))\n",
    "\n",
    "plt.figure(figsize=(6,6))\n",
    "plt.plot(z,grad_norm)\n",
    "plt.title(\"Función ROSENBR con el método de p = 3\")\n",
    "plt.xlabel(\"Número de iteraciones\")\n",
    "plt.ylabel(\"Norma infinito del gradiente\")\n",
    "plt.show()"
   ]
  },
  {
   "attachments": {},
   "cell_type": "markdown",
   "metadata": {},
   "source": [
    "**Función TOINTGSS**"
   ]
  },
  {
   "cell_type": "code",
   "execution_count": 22,
   "metadata": {},
   "outputs": [
    {
     "name": "stdout",
     "output_type": "stream",
     "text": [
      "CUTEst problem TOINTGSS (params {'N': 5000}) with 5000 variables and 0 constraints\n"
     ]
    }
   ],
   "source": [
    "p = pycutest.import_problem('TOINTGSS', sifParams={'N':5000})\n",
    "print(p)"
   ]
  },
  {
   "cell_type": "code",
   "execution_count": 23,
   "metadata": {},
   "outputs": [],
   "source": [
    "x0 = p.x0\n",
    "f0, g0 = p.obj(x0, gradient = True)\n",
    "alpha0 = calculate_ini_alpha(x0,f0,g0)"
   ]
  },
  {
   "cell_type": "code",
   "execution_count": 24,
   "metadata": {},
   "outputs": [],
   "source": [
    "xk, gk, iter, gradients = GM_AOS3(epsilon,delta,c,c1,c2,alphaMax,alphaMin,alpha0,sigmaMin,sigmaMax,\n",
    "           xi0,xi1,xi2,xi3,p, MAX)"
   ]
  },
  {
   "cell_type": "code",
   "execution_count": 25,
   "metadata": {},
   "outputs": [
    {
     "name": "stdout",
     "output_type": "stream",
     "text": [
      "Número de iteraciones:  1\n",
      "Norma final del gradiente:  9.836762893637634e-41\n"
     ]
    }
   ],
   "source": [
    "print(\"Número de iteraciones: \",iter)\n",
    "print(\"Norma final del gradiente: \", LA.norm(gradients[-1], np.inf))"
   ]
  },
  {
   "attachments": {},
   "cell_type": "markdown",
   "metadata": {},
   "source": [
    "**Función DENSCHNB**"
   ]
  },
  {
   "cell_type": "code",
   "execution_count": 26,
   "metadata": {},
   "outputs": [
    {
     "name": "stdout",
     "output_type": "stream",
     "text": [
      "CUTEst problem DENSCHNB (default params) with 2 variables and 0 constraints\n"
     ]
    }
   ],
   "source": [
    "p = pycutest.import_problem('DENSCHNB')\n",
    "print(p)"
   ]
  },
  {
   "cell_type": "code",
   "execution_count": 27,
   "metadata": {},
   "outputs": [],
   "source": [
    "x0 = p.x0\n",
    "f0, g0 = p.obj(x0, gradient = True)\n",
    "alpha0 = calculate_ini_alpha(x0,f0,g0)"
   ]
  },
  {
   "cell_type": "code",
   "execution_count": 28,
   "metadata": {},
   "outputs": [],
   "source": [
    "xk, gk, iter, gradients = GM_AOS3(epsilon,delta,c,c1,c2,alphaMax,alphaMin,alpha0,sigmaMin,sigmaMax,\n",
    "           xi0,xi1,xi2,xi3,p, MAX)"
   ]
  },
  {
   "cell_type": "code",
   "execution_count": 29,
   "metadata": {},
   "outputs": [
    {
     "name": "stdout",
     "output_type": "stream",
     "text": [
      "Número de iteraciones:  5383\n",
      "Norma final del gradiente:  5.153111352632671e-06\n"
     ]
    }
   ],
   "source": [
    "print(\"Número de iteraciones: \",iter)\n",
    "print(\"Norma final del gradiente: \", LA.norm(gradients[-1], np.inf))"
   ]
  },
  {
   "cell_type": "code",
   "execution_count": 30,
   "metadata": {},
   "outputs": [
    {
     "data": {
      "image/png": "[encoded data removed]",
      "text/plain": [
       "<Figure size 600x600 with 1 Axes>"
      ]
     },
     "metadata": {},
     "output_type": "display_data"
    }
   ],
   "source": [
    "# vector con la norma de los gradientes\n",
    "grad_norm = [LA.norm(g, ord = np.inf) for g in gradients]\n",
    "z = range(len(grad_norm))\n",
    "\n",
    "plt.figure(figsize=(6,6))\n",
    "plt.plot(z,grad_norm)\n",
    "plt.title(\"Función DENSCHNB con el método de p = 3\")\n",
    "plt.xlabel(\"Número de iteraciones\")\n",
    "plt.ylabel(\"Norma infinito del gradiente\")\n",
    "plt.show()"
   ]
  },
  {
   "attachments": {},
   "cell_type": "markdown",
   "metadata": {},
   "source": [
    "## Pruebas del método con p = 4"
   ]
  },
  {
   "attachments": {},
   "cell_type": "markdown",
   "metadata": {},
   "source": [
    "**Función ROSENBR**"
   ]
  },
  {
   "cell_type": "code",
   "execution_count": 31,
   "metadata": {},
   "outputs": [
    {
     "name": "stdout",
     "output_type": "stream",
     "text": [
      "CUTEst problem ROSENBR (default params) with 2 variables and 0 constraints\n"
     ]
    }
   ],
   "source": [
    "p = pycutest.import_problem('ROSENBR')\n",
    "print(p)"
   ]
  },
  {
   "cell_type": "code",
   "execution_count": 32,
   "metadata": {},
   "outputs": [],
   "source": [
    "# definimos los parámetros \n",
    "epsilon = 10e-6\n",
    "delta = 10e-4\n",
    "c = 0.99\n",
    "MAX = 100000\n",
    "c1 = 10e-9\n",
    "c2 = 10e-7\n",
    "alphaMax = 10e30\n",
    "alphaMin = 10e-30\n",
    "sigmaMin = 10e-30\n",
    "sigmaMax = 10e3\n",
    "xi0 = 1.07\n",
    "xi1 = 5*10e-5/3\n",
    "xi2 = 0.8\n",
    "xi3 = 5\n",
    "x0 = p.x0\n",
    "f0, g0 = p.obj(x0, gradient = True)\n",
    "alpha0 = calculate_ini_alpha(x0,f0,g0)"
   ]
  },
  {
   "cell_type": "code",
   "execution_count": 33,
   "metadata": {},
   "outputs": [],
   "source": [
    "xk, gk, iter, gradients = GM_AOS4(epsilon,delta,c,c1,c2,alphaMax,alphaMin,alpha0,sigmaMin,sigmaMax,\n",
    "           xi0,xi1,xi2,xi3,p, MAX)"
   ]
  },
  {
   "cell_type": "code",
   "execution_count": 34,
   "metadata": {},
   "outputs": [
    {
     "name": "stdout",
     "output_type": "stream",
     "text": [
      "Número de iteraciones:  8255\n",
      "Norma final del gradiente:  9.836662173690058e-06\n"
     ]
    }
   ],
   "source": [
    "print(\"Número de iteraciones: \",iter)\n",
    "print(\"Norma final del gradiente: \", LA.norm(gradients[-1], np.inf))"
   ]
  },
  {
   "cell_type": "code",
   "execution_count": 35,
   "metadata": {},
   "outputs": [
    {
     "data": {
      "image/png": "[encoded data removed]",
      "text/plain": [
       "<Figure size 600x600 with 1 Axes>"
      ]
     },
     "metadata": {},
     "output_type": "display_data"
    }
   ],
   "source": [
    "# vector con la norma de los gradientes\n",
    "grad_norm = [LA.norm(g, ord = np.inf) for g in gradients]\n",
    "z = range(len(grad_norm))\n",
    "\n",
    "plt.figure(figsize=(6,6))\n",
    "plt.plot(z,grad_norm)\n",
    "plt.title(\"Función ROSENBR con el método de p = 4\")\n",
    "plt.xlabel(\"Número de iteraciones\")\n",
    "plt.ylabel(\"Norma infinito del gradiente\")\n",
    "plt.show()"
   ]
  },
  {
   "attachments": {},
   "cell_type": "markdown",
   "metadata": {},
   "source": [
    "**Función TOINTGSS**"
   ]
  },
  {
   "cell_type": "code",
   "execution_count": 36,
   "metadata": {},
   "outputs": [
    {
     "name": "stdout",
     "output_type": "stream",
     "text": [
      "CUTEst problem TOINTGSS (params {'N': 5000}) with 5000 variables and 0 constraints\n"
     ]
    }
   ],
   "source": [
    "p = pycutest.import_problem('TOINTGSS', sifParams={'N':5000})\n",
    "print(p)"
   ]
  },
  {
   "cell_type": "code",
   "execution_count": 37,
   "metadata": {},
   "outputs": [],
   "source": [
    "x0 = p.x0\n",
    "f0, g0 = p.obj(x0, gradient = True)\n",
    "alpha0 = calculate_ini_alpha(x0,f0,g0)"
   ]
  },
  {
   "cell_type": "code",
   "execution_count": 38,
   "metadata": {},
   "outputs": [],
   "source": [
    "xk, gk, iter, gradients = GM_AOS4(epsilon,delta,c,c1,c2,alphaMax,alphaMin,alpha0,sigmaMin,sigmaMax,\n",
    "           xi0,xi1,xi2,xi3,p, MAX)"
   ]
  },
  {
   "cell_type": "code",
   "execution_count": 39,
   "metadata": {},
   "outputs": [
    {
     "name": "stdout",
     "output_type": "stream",
     "text": [
      "Número de iteraciones:  1\n",
      "Norma final del gradiente:  9.836762893637634e-41\n"
     ]
    }
   ],
   "source": [
    "print(\"Número de iteraciones: \",iter)\n",
    "print(\"Norma final del gradiente: \", LA.norm(gradients[-1], np.inf))"
   ]
  },
  {
   "attachments": {},
   "cell_type": "markdown",
   "metadata": {},
   "source": [
    "**Función DENSCHNB**"
   ]
  },
  {
   "cell_type": "code",
   "execution_count": 40,
   "metadata": {},
   "outputs": [
    {
     "name": "stdout",
     "output_type": "stream",
     "text": [
      "CUTEst problem DENSCHNB (default params) with 2 variables and 0 constraints\n"
     ]
    }
   ],
   "source": [
    "p = pycutest.import_problem('DENSCHNB')\n",
    "print(p)"
   ]
  },
  {
   "cell_type": "code",
   "execution_count": 41,
   "metadata": {},
   "outputs": [],
   "source": [
    "x0 = p.x0\n",
    "f0, g0 = p.obj(x0, gradient = True)\n",
    "alpha0 = calculate_ini_alpha(x0,f0,g0)"
   ]
  },
  {
   "cell_type": "code",
   "execution_count": 42,
   "metadata": {},
   "outputs": [],
   "source": [
    "xk, gk, iter, gradients = GM_AOS3(epsilon,delta,c,c1,c2,alphaMax,alphaMin,alpha0,sigmaMin,sigmaMax,\n",
    "           xi0,xi1,xi2,xi3,p, MAX)"
   ]
  },
  {
   "cell_type": "code",
   "execution_count": 43,
   "metadata": {},
   "outputs": [
    {
     "name": "stdout",
     "output_type": "stream",
     "text": [
      "Número de iteraciones:  5383\n",
      "Norma final del gradiente:  5.153111352632671e-06\n"
     ]
    }
   ],
   "source": [
    "print(\"Número de iteraciones: \",iter)\n",
    "print(\"Norma final del gradiente: \", LA.norm(gradients[-1], np.inf))"
   ]
  },
  {
   "cell_type": "code",
   "execution_count": 44,
   "metadata": {},
   "outputs": [
    {
     "data": {
      "image/png": "[encoded data removed]",
      "text/plain": [
       "<Figure size 600x600 with 1 Axes>"
      ]
     },
     "metadata": {},
     "output_type": "display_data"
    }
   ],
   "source": [
    "# vector con la norma de los gradientes\n",
    "grad_norm = [LA.norm(g, ord = np.inf) for g in gradients]\n",
    "z = range(len(grad_norm))\n",
    "\n",
    "plt.figure(figsize=(6,6))\n",
    "plt.plot(z,grad_norm)\n",
    "plt.title(\"Función DENSCHNB con el método de p = 4\")\n",
    "plt.xlabel(\"Número de iteraciones\")\n",
    "plt.ylabel(\"Norma infinito del gradiente\")\n",
    "plt.show()"
   ]
  }
 ],
 "metadata": {
  "kernelspec": {
   "display_name": "Python 3",
   "language": "python",
   "name": "python3"
  },
  "language_info": {
   "codemirror_mode": {
    "name": "ipython",
    "version": 3
   },
   "file_extension": ".py",
   "mimetype": "text/x-python",
   "name": "python",
   "nbconvert_exporter": "python",
   "pygments_lexer": "ipython3",
   "version": "3.10.6"
  },
  "orig_nbformat": 4
 },
 "nbformat": 4,
 "nbformat_minor": 2
}
