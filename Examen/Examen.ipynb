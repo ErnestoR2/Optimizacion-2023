{
 "cells": [
  {
   "cell_type": "markdown",
   "id": "97602d20",
   "metadata": {},
   "source": [
    "# Ernesto Antonio Reyes Ramírez\n",
    "\n",
    "# Examen Parcial\n",
    "\n",
    "# Optimización"
   ]
  },
  {
   "cell_type": "markdown",
   "id": "ca325d28",
   "metadata": {},
   "source": [
    "### Implementar el algoritmo de región de confianza basado en el Algoritmo 1. "
   ]
  },
  {
   "cell_type": "code",
   "execution_count": 7,
   "id": "0aafe39f",
   "metadata": {},
   "outputs": [],
   "source": [
    "#Librerias\n",
    "import numpy as np\n",
    "import math\n",
    "import copy\n",
    "import time"
   ]
  },
  {
   "cell_type": "code",
   "execution_count": 38,
   "id": "a1387a49",
   "metadata": {},
   "outputs": [],
   "source": [
    "def find_lambda(B):\n",
    "    \"\"\"\n",
    "    Encuentra el valor mínimo de lambda tal que B + lambda*I es positiva definida.\n",
    "\n",
    "    Parameters:\n",
    "        B (numpy.ndarray): matriz de entrada.\n",
    "\n",
    "    Returns:\n",
    "        lambda_min (float): valor mínimo de lambda tal que B + lambda*I es positiva definida.\n",
    "    \"\"\"\n",
    "    eigenvals = np.linalg.eigvals(B)\n",
    "    lambda_min = -np.min(eigenvals) + 1\n",
    "    return lambda_min"
   ]
  },
  {
   "cell_type": "code",
   "execution_count": 31,
   "id": "b14cd6a8",
   "metadata": {},
   "outputs": [],
   "source": [
    "def is_positive_semidefinite(A):\n",
    "    \"\"\"\n",
    "    Determina si una matriz es semidefinida positiva.\n",
    "\n",
    "    Parameters:\n",
    "        A (numpy.ndarray): matriz de entrada.\n",
    "\n",
    "    Returns:\n",
    "        bool: True si A es semidefinida positiva, False en caso contrario.\n",
    "    \"\"\"\n",
    "    eigenvals = np.linalg.eigvals(A)\n",
    "    return np.all(eigenvals >= 0)"
   ]
  },
  {
   "cell_type": "code",
   "execution_count": 32,
   "id": "e409bd24",
   "metadata": {},
   "outputs": [],
   "source": [
    "#Algoritmo 1\n",
    "def alg1(fx,g,B,y0,Delta):\n",
    "    y = y0\n",
    "    m = B.shape[0]\n",
    "    for n in range(0,100):\n",
    "        A = B + y*np.eye(m)\n",
    "        L = np.linalg.cholesky(A)\n",
    "        z = -np.linalg.solve(L,g)\n",
    "        p = np.linalg.solve(L.T,z)\n",
    "        q = np.linalg.solve(L,p)\n",
    "        \n",
    "        y = y + ((np.linalg.norm(p)/np.linalg.norm(q))**2)*((np.linalg.norm(p)-Delta)/Delta)\n",
    "    \n",
    "    P = - np.linalg.inv(B + y*np.eye(m))@g\n",
    "    return P"
   ]
  },
  {
   "cell_type": "code",
   "execution_count": 39,
   "id": "4954b41e",
   "metadata": {},
   "outputs": [],
   "source": [
    "#Región de confianza con algoritmo 1\n",
    "def Trust_region_alg1(f,grad_f,H_f,x0,Delta_0,Delta_max,eta,tol,ite):\n",
    "    x = x0\n",
    "    Delta = Delta_0\n",
    "    for i in range(ite):\n",
    "        g = grad_f(x)\n",
    "        B = H_f(x)\n",
    "        if is_positive_semidefinite(B) == True:\n",
    "            p = -np.linalg.inv(B)@g\n",
    "        else:\n",
    "            y = find_lambda(B)\n",
    "            p = alg1(f(x),g,B,y,Delta)\n",
    "        rho = (f(x) - f(x + p)) / (-np.dot(g, p) - 0.5 * np.dot(p, np.dot(B, p)))\n",
    "        if rho < eta:\n",
    "            Delta *= 0.25\n",
    "        else:\n",
    "            if rho > 0.75 and np.linalg.norm(p) == Delta:\n",
    "                Delta = min(2 * Delta, Delta_max)\n",
    "            if rho > eta:\n",
    "                x += p\n",
    "        if np.linalg.norm(g) < tol:\n",
    "            break\n",
    "            \n",
    "    return x,i"
   ]
  },
  {
   "cell_type": "code",
   "execution_count": 35,
   "id": "38a80ac3",
   "metadata": {},
   "outputs": [],
   "source": [
    "# Región de confianza con Dogleg\n",
    "def Dogleg(x, fx, grad_fx, H_fx, Delta):\n",
    "    pB = -np.linalg.solve(H_fx,grad_fx)\n",
    "    if np.linalg.norm(pB) <= Delta:\n",
    "        return pB\n",
    "    \n",
    "    pU = -((grad_fx.T@grad_fx)/(grad_fx.T@H_fx@grad_fx))*grad_fx\n",
    "    \n",
    "    if np.linalg.norm(pU) >= Delta:\n",
    "        return (Delta / np.linalg.norm(grad_fx)) * grad_fx\n",
    "    a = np.dot(pB - pU, pB - pU)\n",
    "    b = 2 * np.dot(pU, pB - pU)\n",
    "    c = np.dot(pU, pU) - Delta ** 2\n",
    "    t = (-b + np.sqrt(b ** 2 - 4 * a * c)) / (2 * a)\n",
    "    return pU + t * (pB - pU)\n",
    "    \n",
    "    \n",
    "    \n",
    "def Trust_region_Dogleg(f,grad_f,H_f,x0,Delta_0,Delta_max,eta,tol,ite):\n",
    "    x = x0\n",
    "    Delta = Delta_0\n",
    "    for i in range(ite):\n",
    "        g = grad_f(x)\n",
    "        B = H_f(x)\n",
    "        eps = 1e-6\n",
    "        B += np.eye(B.shape[0]) * eps\n",
    "        p = Dogleg(x, f(x), g, B, Delta)\n",
    "        rho = (f(x) - f(x + p)) / (-np.dot(g, p) - 0.5 * np.dot(p, np.dot(B, p)))\n",
    "        if rho < eta:\n",
    "            Delta *= 0.25\n",
    "        else:\n",
    "            if rho > 0.75 and np.linalg.norm(p) == Delta:\n",
    "                Delta = min(2 * Delta, Delta_max)\n",
    "            if rho > eta:\n",
    "                x += p\n",
    "        if np.linalg.norm(g) < tol:\n",
    "            break\n",
    "            \n",
    "    return x,i"
   ]
  },
  {
   "cell_type": "markdown",
   "id": "4b8005f7",
   "metadata": {},
   "source": [
    "# Experimentos"
   ]
  },
  {
   "cell_type": "code",
   "execution_count": 36,
   "id": "18e63e5f",
   "metadata": {},
   "outputs": [],
   "source": [
    "#Función Rosembrock \n",
    "\n",
    "def f_Rosenbrock(x):\n",
    "    n = len(x)\n",
    "    sum = 0\n",
    "    for i in range(n-1):\n",
    "        sum += 100*(x[i+1] - x[i]**2)**2 + (1 - x[i])**2\n",
    "    return sum\n",
    "\n",
    "\n",
    "def grad_rosenbrock(x):\n",
    "    n = len(x)\n",
    "    grad_f = np.zeros(n)\n",
    "    grad_f[0] = 400*(x[0]**3) - 400*x[0]*x[1]+2*x[0]-2\n",
    "    grad_f[n-1] = 200*x[n-1]-200*(x[n-2]**2) \n",
    "    \n",
    "    for i in range(1,n-1):\n",
    "        grad_f[i] = 400*(x[i]**3) + 202*x[i] - 400*x[i]*x[i+1]-200*(x[i-1]**2) - 2\n",
    "    \n",
    "    return grad_f\n",
    "\n",
    "def H_rosenbrock(x):\n",
    "    n = len(x)\n",
    "    h_f = np.zeros((n,n))\n",
    "    h_f[0,0] = 1200*(x[0]**2) - 400*x[1]+2\n",
    "    h_f[0,1] = -400*x[0]\n",
    "    h_f[n-1,n-2] = -400*x[n-2]\n",
    "    h_f[n-1,n-1] = 200\n",
    "    \n",
    "    for i in range(1,n):\n",
    "        h_f[i,i-1] = -400*x[i-1] \n",
    "    \n",
    "    for i in range(1,n-1):\n",
    "        h_f[i,i] = 1200*(x[i]**2) + 202 - 400*x[i+1]\n",
    "        \n",
    "    for i in range(0,n-1):\n",
    "        h_f[i,i+1] = -400*x[i] \n",
    "        \n",
    "    return h_f"
   ]
  },
  {
   "cell_type": "code",
   "execution_count": 51,
   "id": "4469169f",
   "metadata": {},
   "outputs": [
    {
     "name": "stdout",
     "output_type": "stream",
     "text": [
      "Método de región de confianza con Algoritmo 1\n",
      "Tiempo promedio:  0.009009083112080893\n",
      "Iteraciones promedio:  89.73333333333333\n",
      "Número de fallas:  27\n"
     ]
    }
   ],
   "source": [
    "# Región de confianza con Algoritmo 1, Función Rosenbrock\n",
    "n = 2\n",
    "m = 30\n",
    "tim = 0\n",
    "it = 0\n",
    "f = 0\n",
    "\n",
    "for i in range(m):\n",
    "    x0 = np.random.uniform(-2,2,n) + 1\n",
    "    inicio = time.time()\n",
    "    xmin,k = Trust_region_alg1(f_Rosenbrock,grad_rosenbrock,H_rosenbrock,x0,1,10,0.25,1e-5,100)\n",
    "    fin = time.time()\n",
    "    tim = tim + (fin-inicio)\n",
    "    it = it + k\n",
    "    if k == 99:\n",
    "        f = f+1\n",
    "\n",
    "tim = tim/m\n",
    "it = it/m\n",
    "print(\"Método de región de confianza con Algoritmo 1\")\n",
    "print(\"Tiempo promedio: \", tim)\n",
    "print(\"Iteraciones promedio: \", it)\n",
    "print(\"Número de fallas: \", f)"
   ]
  },
  {
   "cell_type": "code",
   "execution_count": 52,
   "id": "3db4417e",
   "metadata": {},
   "outputs": [
    {
     "name": "stdout",
     "output_type": "stream",
     "text": [
      "Método de región de confianza con Dogleg\n",
      "Tiempo promedio:  0.00082550048828125\n",
      "Iteraciones promedio:  18.966666666666665\n",
      "Número de fallas:  0\n"
     ]
    }
   ],
   "source": [
    "# Región de confianza con Dogleg, Función Rosenbrock\n",
    "n = 2\n",
    "m = 30\n",
    "tim = 0\n",
    "it = 0\n",
    "f = 0\n",
    "\n",
    "for i in range(m):\n",
    "    x0 = np.random.uniform(-2,2,n) + 1\n",
    "    inicio = time.time()\n",
    "    xmin,k = Trust_region_Dogleg(f_Rosenbrock,grad_rosenbrock,H_rosenbrock,x0,1,10,0.25,1e-8,100)\n",
    "    fin = time.time()\n",
    "    tim = tim + (fin-inicio)\n",
    "    it = it + k\n",
    "    if k == 99:\n",
    "        f = f+1\n",
    "\n",
    "tim = tim/m\n",
    "it = it/m\n",
    "print(\"Método de región de confianza con Dogleg\")\n",
    "print(\"Tiempo promedio: \", tim)\n",
    "print(\"Iteraciones promedio: \", it)\n",
    "print(\"Número de fallas: \", f)"
   ]
  },
  {
   "cell_type": "markdown",
   "id": "b9bf5403",
   "metadata": {},
   "source": [
    "Conclusiones: Como podemos notar, el algoritmo 1 logra converger al mínimo pero también existen veces en las que no lo logra encontrar, esto es de esperarze ya que como se menciona en el libro este algoritmo no es de los mejores y suele fallar. El promedio de iteraciones fue algo alto, que es 90 iteraciones aproximádamente, tomando en cuenta que los que fallaron utilizaron las 100 iteraciones. Por otro lado, el algoritmo implementado con Dogleg no tuvo ninguna falla en las 30 iteraciones y logró converger demasiado rápido, en un promedio de 19 iteraciones. Con estos criterios en cuenta, concluimos que el algoritmo 1 funciona pero en todos los aspectos el Dogleg es mejor que él. "
   ]
  }
 ],
 "metadata": {
  "kernelspec": {
   "display_name": "Python 3 (ipykernel)",
   "language": "python",
   "name": "python3"
  },
  "language_info": {
   "codemirror_mode": {
    "name": "ipython",
    "version": 3
   },
   "file_extension": ".py",
   "mimetype": "text/x-python",
   "name": "python",
   "nbconvert_exporter": "python",
   "pygments_lexer": "ipython3",
   "version": "3.10.9"
  }
 },
 "nbformat": 4,
 "nbformat_minor": 5
}
